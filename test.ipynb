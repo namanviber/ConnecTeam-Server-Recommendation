{
 "cells": [
  {
   "cell_type": "code",
   "execution_count": 1,
   "metadata": {},
   "outputs": [
    {
     "name": "stderr",
     "output_type": "stream",
     "text": [
      "c:\\Projects\\ConnecTeam Server Recommendation\\.venv\\lib\\site-packages\\lightfm\\_lightfm_fast.py:9: UserWarning: LightFM was compiled without OpenMP support. Only a single thread will be used.\n",
      "  warnings.warn(\n"
     ]
    }
   ],
   "source": [
    "import ast\n",
    "import numpy as np\n",
    "import pandas as pd\n",
    "from recommendation_model import RecommendationSystem\n"
   ]
  },
  {
   "cell_type": "code",
   "execution_count": null,
   "metadata": {},
   "outputs": [],
   "source": [
    "interaction_data = [\n",
    "    {\n",
    "        \"user_id\": \"u1\",\n",
    "        \"user_name\": \"John\",\n",
    "        \"server_id\": \"s1\",\n",
    "        \"server_name\": \"TechServer\",\n",
    "        \"rating\": 5,\n",
    "        \"server_category\": \"[1, 2, 3]\"\n",
    "    },\n",
    "    {\n",
    "        \"user_id\": \"u2\",\n",
    "        \"user_name\": \"Jane\",\n",
    "        \"server_id\": \"s2\",\n",
    "        \"server_name\": \"MusicServer\",\n",
    "        \"rating\": 4,\n",
    "        \"server_category\": \"[3, 4]\"\n",
    "    },\n",
    "    {\n",
    "        \"user_id\": \"u3\",\n",
    "        \"user_name\": \"Mike\",\n",
    "        \"server_id\": \"s3\",\n",
    "        \"server_name\": \"GameServer\",\n",
    "        \"rating\": 5,\n",
    "        \"server_category\": \"[1, 4, 5]\"\n",
    "    },\n",
    "    {\n",
    "        \"user_id\": \"u4\",\n",
    "        \"user_name\": \"Anna\",\n",
    "        \"server_id\": \"s4\",\n",
    "        \"server_name\": \"ArtServer\",\n",
    "        \"rating\": 3,\n",
    "        \"server_category\": \"[6, 7]\"\n",
    "    },\n",
    "    {\n",
    "        \"user_id\": \"u5\",\n",
    "        \"user_name\": \"Lisa\",\n",
    "        \"server_id\": \"s5\",\n",
    "        \"server_name\": \"MusicTease\",\n",
    "        \"rating\": 4,\n",
    "        \"server_category\": \"[3, 4]\"\n",
    "    },\n",
    "    {\n",
    "        \"user_id\": \"u2\",\n",
    "        \"user_name\": \"Jane\",\n",
    "        \"server_id\": \"s3\",\n",
    "        \"server_name\": \"GameServer\",\n",
    "        \"rating\": 4,\n",
    "        \"server_category\": \"[1, 4]\"\n",
    "    },\n",
    "    {\n",
    "        \"user_id\": \"u1\",\n",
    "        \"user_name\": \"John\",\n",
    "        \"server_id\": \"s4\",\n",
    "        \"server_name\": \"ArtServer\",\n",
    "        \"rating\": 2,\n",
    "        \"server_category\": \"[6, 7]\"\n",
    "    },\n",
    "    {\n",
    "        \"user_id\": \"u3\",\n",
    "        \"user_name\": \"Mike\",\n",
    "        \"server_id\": \"s1\",\n",
    "        \"server_name\": \"TechServer\",\n",
    "        \"rating\": 3,\n",
    "        \"server_category\": \"[1, 2, 3]\"\n",
    "    },\n",
    "    {\n",
    "        \"user_id\": \"u5\",\n",
    "        \"user_name\": \"Lisa\",\n",
    "        \"server_id\": \"s2\",\n",
    "        \"server_name\": \"MusicServer\",\n",
    "        \"rating\": 5,\n",
    "        \"server_category\": \"[3, 4]\"\n",
    "    },\n",
    "    {\n",
    "        \"user_id\": \"u4\",\n",
    "        \"user_name\": \"Anna\",\n",
    "        \"server_id\": \"s6\",\n",
    "        \"server_name\": \"CookingServer\",\n",
    "        \"rating\": 5,\n",
    "        \"server_category\": \"[8]\"\n",
    "    },\n",
    "    {\n",
    "        \"user_id\": \"u2\",\n",
    "        \"user_name\": \"Jane\",\n",
    "        \"server_id\": \"s6\",\n",
    "        \"server_name\": \"CookingServer\",\n",
    "        \"rating\": 4,\n",
    "        \"server_category\": \"[8]\"\n",
    "    },\n",
    "    {\n",
    "        \"user_id\": \"u1\",\n",
    "        \"user_name\": \"John\",\n",
    "        \"server_id\": \"s3\",\n",
    "        \"server_name\": \"GameServer\",\n",
    "        \"rating\": 5,\n",
    "        \"server_category\": \"[1, 4, 5]\"\n",
    "    },\n",
    "    {\n",
    "        \"user_id\": \"u4\",\n",
    "        \"user_name\": \"Anna\",\n",
    "        \"server_id\": \"s1\",\n",
    "        \"server_name\": \"TechServer\",\n",
    "        \"rating\": 3,\n",
    "        \"server_category\": \"[1, 2, 3]\"\n",
    "    }\n",
    "]"
   ]
  },
  {
   "cell_type": "code",
   "execution_count": 3,
   "metadata": {},
   "outputs": [],
   "source": [
    "df_interaction = pd.DataFrame(interaction_data)"
   ]
  },
  {
   "cell_type": "code",
   "execution_count": 4,
   "metadata": {},
   "outputs": [],
   "source": [
    "df_server = df_interaction.groupby(['server_id', 'server_name'])['server_category'].apply(lambda x: sorted(set(item for sublist in x.apply(ast.literal_eval) for item in sublist))).reset_index()"
   ]
  },
  {
   "cell_type": "code",
   "execution_count": 5,
   "metadata": {},
   "outputs": [],
   "source": [
    "df_user = df_interaction.groupby(['user_id', 'user_name'])['server_category'].apply(lambda x: sorted(set(item for sublist in x.apply(ast.literal_eval) for item in sublist))).reset_index()"
   ]
  },
  {
   "cell_type": "code",
   "execution_count": 6,
   "metadata": {},
   "outputs": [],
   "source": [
    "df_category = pd.read_csv(\"Dataset\\server_category.csv\")"
   ]
  },
  {
   "cell_type": "code",
   "execution_count": 7,
   "metadata": {},
   "outputs": [],
   "source": [
    "df_user['user_num'] = range(len(df_user))\n",
    "df_server['server_num'] = range(len(df_server))"
   ]
  },
  {
   "cell_type": "code",
   "execution_count": 8,
   "metadata": {},
   "outputs": [],
   "source": [
    "recommender = RecommendationSystem()"
   ]
  },
  {
   "cell_type": "code",
   "execution_count": 9,
   "metadata": {},
   "outputs": [],
   "source": [
    "prep_result = recommender.prepare_data(df_interaction, df_server, df_user, df_category)"
   ]
  },
  {
   "cell_type": "code",
   "execution_count": 10,
   "metadata": {},
   "outputs": [
    {
     "ename": "",
     "evalue": "",
     "output_type": "error",
     "traceback": [
      "\u001b[1;31mThe Kernel crashed while executing code in the current cell or a previous cell. \n",
      "\u001b[1;31mPlease review the code in the cell(s) to identify a possible cause of the failure. \n",
      "\u001b[1;31mClick <a href='https://aka.ms/vscodeJupyterKernelCrash'>here</a> for more info. \n",
      "\u001b[1;31mView Jupyter <a href='command:jupyter.viewOutput'>log</a> for further details."
     ]
    }
   ],
   "source": [
    "train_result = recommender.train_model()"
   ]
  },
  {
   "cell_type": "code",
   "execution_count": null,
   "metadata": {},
   "outputs": [],
   "source": [
    "recommendations = recommender.get_recommendations(\"u1\")"
   ]
  }
 ],
 "metadata": {
  "kernelspec": {
   "display_name": ".venv",
   "language": "python",
   "name": "python3"
  },
  "language_info": {
   "codemirror_mode": {
    "name": "ipython",
    "version": 3
   },
   "file_extension": ".py",
   "mimetype": "text/x-python",
   "name": "python",
   "nbconvert_exporter": "python",
   "pygments_lexer": "ipython3",
   "version": "3.10.11"
  }
 },
 "nbformat": 4,
 "nbformat_minor": 2
}
