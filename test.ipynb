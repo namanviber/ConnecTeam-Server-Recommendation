{
 "cells": [
  {
   "cell_type": "code",
   "execution_count": 4,
   "metadata": {},
   "outputs": [
    {
     "name": "stderr",
     "output_type": "stream",
     "text": [
      "c:\\Projects\\ConnecTeam Server Recommendation\\.venv\\lib\\site-packages\\lightfm\\_lightfm_fast.py:9: UserWarning: LightFM was compiled without OpenMP support. Only a single thread will be used.\n",
      "  warnings.warn(\n"
     ]
    }
   ],
   "source": [
    "import ast\n",
    "import numpy as np\n",
    "import pandas as pd\n",
    "from recommendation_model import RecommendationSystem\n"
   ]
  },
  {
   "cell_type": "code",
   "execution_count": 5,
   "metadata": {},
   "outputs": [],
   "source": [
    "interaction_data = [\n",
    "\n",
    "  {\n",
    "\n",
    "    \"user_id\": \"user_2pJB6hpTDP9XlEm0PmA1quwi2Yi\",\n",
    "\n",
    "    \"user_name\": \"Ayush Saini\",\n",
    "\n",
    "    \"server_id\": \"3bc533f0-0759-4a6d-b2d1-23e2fa052060\",\n",
    "\n",
    "    \"server_name\": \"Bollywood\",\n",
    "\n",
    "    \"rating\": 4,\n",
    "\n",
    "    \"server_category\": \"[6,7]\",\n",
    "\n",
    "    \"server_image\": \"https://uploadthing.com/f/3144076f-4ac7-4706-ab82-0f435a94201d-2rq4ra.jpg\",\n",
    "\n",
    "    \"server_invite\": \"97262d08-6ab4-4ff5-9703-8e20a8195e47\"\n",
    "\n",
    "  },\n",
    "\n",
    "  {\n",
    "\n",
    "    \"user_id\": \"user_2pJDVxGGV8xOJstZFRIBphR8oEt\",\n",
    "\n",
    "    \"user_name\": \"Ayush Saini\",\n",
    "\n",
    "    \"server_id\": \"96c40290-2449-4060-84f3-0e50dc4a083a\",\n",
    "\n",
    "    \"server_name\": \"Cars\",\n",
    "\n",
    "    \"rating\": 4,\n",
    "\n",
    "    \"server_category\": \"[3,11]\",\n",
    "\n",
    "    \"server_image\": \"https://uploadthing.com/f/c529fd47-b57e-4319-b564-d31b4f3d7e0f-h8zxqw.png\",\n",
    "\n",
    "    \"server_invite\": \"130bcc53-899a-4ae8-8639-2e54f689dba0\"\n",
    "\n",
    "  },\n",
    "\n",
    "  {\n",
    "\n",
    "    \"user_id\": \"user_2pJF59j1eyMIFiofF1rtyZ42ugw\",\n",
    "\n",
    "    \"user_name\": \"Sidharth Aggarwal\",\n",
    "\n",
    "    \"server_id\": \"0748ee80-29be-48c7-a054-f909602df6e0\",\n",
    "\n",
    "    \"server_name\": \"Hehe\",\n",
    "\n",
    "    \"rating\": 4,\n",
    "\n",
    "    \"server_category\": \"[6,2]\",\n",
    "\n",
    "    \"server_image\": \"https://uploadthing.com/f/1f109489-bdf6-4437-9bf6-bc8f7b85c4f5-kc852f.jpg\",\n",
    "\n",
    "    \"server_invite\": \"1e22bb1f-1b10-44ca-b820-3cd46bf14ff8\"\n",
    "\n",
    "  },\n",
    "\n",
    "  {\n",
    "\n",
    "    \"user_id\": \"user_2pJFiplfKhoBuvwP6kqzETzYztS\",\n",
    "\n",
    "    \"user_name\": \"Ayush Saini\",\n",
    "\n",
    "    \"server_id\": \"93537689-9067-48b5-874f-ce60c017354a\",\n",
    "\n",
    "    \"server_name\": \"Test Server\",\n",
    "\n",
    "    \"rating\": 4,\n",
    "\n",
    "    \"server_category\": \"[2,3]\",\n",
    "\n",
    "    \"server_image\": \"https://uploadthing.com/f/a125ac54-61ad-4b21-a10e-418efb9e8300-k9gnqc.jpg\",\n",
    "\n",
    "    \"server_invite\": \"2dbf33e5-3708-443e-bc97-70b425b51db1\"\n",
    "\n",
    "  },\n",
    "\n",
    "  {\n",
    "\n",
    "    \"user_id\": \"user_2pKF6P71tt4pFEappnDEtA44t9C\",\n",
    "\n",
    "    \"user_name\": \"Mood Swing 6969\",\n",
    "\n",
    "    \"server_id\": \"3ef9f5c8-be8b-4ca3-8d58-1052774c8d82\",\n",
    "\n",
    "    \"server_name\": \"Networking\",\n",
    "\n",
    "    \"rating\": 4,\n",
    "\n",
    "    \"server_category\": \"[1,3]\",\n",
    "\n",
    "    \"server_image\": \"https://uploadthing.com/f/9cc40380-aff1-415e-a77d-7532118f15d9-c19ols.png\",\n",
    "\n",
    "    \"server_invite\": \"91fefe37-ba20-4c0e-a9f9-81796bfb148b\"\n",
    "\n",
    "  },\n",
    "\n",
    "  {\n",
    "\n",
    "    \"user_id\": \"user_2pgqjMYQLi1b24UB1DhlNN7I9ju\",\n",
    "\n",
    "    \"user_name\": \"Naman Jain\",\n",
    "\n",
    "    \"server_id\": \"3c4bfb6c-13e0-45be-b2f9-e25cd226abae\",\n",
    "\n",
    "    \"server_name\": \"Spy Family\",\n",
    "\n",
    "    \"rating\": 4,\n",
    "\n",
    "    \"server_category\": \"[2]\",\n",
    "\n",
    "    \"server_image\": \"https://utfs.io/f/e8bc7d10-c649-425c-8a82-5342f5116a4d-c19ols.png\",\n",
    "\n",
    "    \"server_invite\": \"8ac7bcc3-969b-4381-9a93-4988e9131f07\"\n",
    "\n",
    "  },\n",
    "\n",
    "  {\n",
    "\n",
    "    \"user_id\": \"user_2ph4s4Ku558Bhly1Lq7qnJOvyje\",\n",
    "\n",
    "    \"user_name\": \"Naman Jain\",\n",
    "\n",
    "    \"server_id\": \"696d7a49-5b2a-48ae-9df7-a4cded9efa78\",\n",
    "\n",
    "    \"server_name\": \"Spy Family\",\n",
    "\n",
    "    \"rating\": 4,\n",
    "\n",
    "    \"server_category\": \"[3,2]\",\n",
    "\n",
    "    \"server_image\": \"https://utfs.io/f/61198458-d4f9-4a13-9eb3-a21a911bcb8f-569uj.png\",\n",
    "\n",
    "    \"server_invite\": \"e96f1051-22e7-4406-82d3-051d21b66869\"\n",
    "\n",
    "  }\n",
    "\n",
    "]"
   ]
  },
  {
   "cell_type": "code",
   "execution_count": 6,
   "metadata": {},
   "outputs": [],
   "source": [
    "df_interaction = pd.DataFrame(interaction_data)"
   ]
  },
  {
   "cell_type": "code",
   "execution_count": 7,
   "metadata": {},
   "outputs": [],
   "source": [
    "df_server = (\n",
    "    df_interaction.groupby(['server_id', 'server_name'])\n",
    "    .apply(lambda group: pd.Series({\n",
    "        'server_category': sorted(set(item for sublist in group['server_category'].apply(ast.literal_eval) for item in sublist)),\n",
    "        'server_image': group['server_image'].iloc[0], \n",
    "        'server_invite': group['server_invite'].iloc[0],\n",
    "    }))\n",
    "    .reset_index()\n",
    ")\n"
   ]
  },
  {
   "cell_type": "code",
   "execution_count": 8,
   "metadata": {},
   "outputs": [],
   "source": [
    "df_user = df_interaction.groupby(['user_id', 'user_name'])['server_category'].apply(lambda x: sorted(set(item for sublist in x.apply(ast.literal_eval) for item in sublist))).reset_index()"
   ]
  },
  {
   "cell_type": "code",
   "execution_count": 9,
   "metadata": {},
   "outputs": [],
   "source": [
    "df_category = pd.read_csv(\"Dataset\\server_category.csv\")"
   ]
  },
  {
   "cell_type": "code",
   "execution_count": 10,
   "metadata": {},
   "outputs": [],
   "source": [
    "df_user['user_num'] = range(len(df_user))\n",
    "df_server['server_num'] = range(len(df_server))"
   ]
  },
  {
   "cell_type": "code",
   "execution_count": 11,
   "metadata": {},
   "outputs": [],
   "source": [
    "recommender = RecommendationSystem()"
   ]
  },
  {
   "cell_type": "code",
   "execution_count": 12,
   "metadata": {},
   "outputs": [],
   "source": [
    "prep_result = recommender.prepare_data(df_interaction, df_server, df_user, df_category)"
   ]
  },
  {
   "cell_type": "code",
   "execution_count": 13,
   "metadata": {},
   "outputs": [
    {
     "name": "stdout",
     "output_type": "stream",
     "text": [
      "Precision@k: 0.1429\n",
      "Recall@k: 0.7143\n",
      "AUC: 0.5000\n"
     ]
    }
   ],
   "source": [
    "train_result = recommender.train_model()"
   ]
  },
  {
   "cell_type": "code",
   "execution_count": 18,
   "metadata": {},
   "outputs": [
    {
     "data": {
      "text/html": [
       "<div>\n",
       "<style scoped>\n",
       "    .dataframe tbody tr th:only-of-type {\n",
       "        vertical-align: middle;\n",
       "    }\n",
       "\n",
       "    .dataframe tbody tr th {\n",
       "        vertical-align: top;\n",
       "    }\n",
       "\n",
       "    .dataframe thead th {\n",
       "        text-align: right;\n",
       "    }\n",
       "</style>\n",
       "<table border=\"1\" class=\"dataframe\">\n",
       "  <thead>\n",
       "    <tr style=\"text-align: right;\">\n",
       "      <th></th>\n",
       "      <th>server_id</th>\n",
       "      <th>server_name</th>\n",
       "      <th>server_category</th>\n",
       "      <th>server_image</th>\n",
       "      <th>server_invite</th>\n",
       "      <th>server_num</th>\n",
       "    </tr>\n",
       "  </thead>\n",
       "  <tbody>\n",
       "    <tr>\n",
       "      <th>0</th>\n",
       "      <td>0748ee80-29be-48c7-a054-f909602df6e0</td>\n",
       "      <td>Hehe</td>\n",
       "      <td>[2, 6]</td>\n",
       "      <td>https://uploadthing.com/f/1f109489-bdf6-4437-9...</td>\n",
       "      <td>1e22bb1f-1b10-44ca-b820-3cd46bf14ff8</td>\n",
       "      <td>0</td>\n",
       "    </tr>\n",
       "    <tr>\n",
       "      <th>1</th>\n",
       "      <td>3bc533f0-0759-4a6d-b2d1-23e2fa052060</td>\n",
       "      <td>Bollywood</td>\n",
       "      <td>[6, 7]</td>\n",
       "      <td>https://uploadthing.com/f/3144076f-4ac7-4706-a...</td>\n",
       "      <td>97262d08-6ab4-4ff5-9703-8e20a8195e47</td>\n",
       "      <td>1</td>\n",
       "    </tr>\n",
       "    <tr>\n",
       "      <th>2</th>\n",
       "      <td>3c4bfb6c-13e0-45be-b2f9-e25cd226abae</td>\n",
       "      <td>Spy Family</td>\n",
       "      <td>[2]</td>\n",
       "      <td>https://utfs.io/f/e8bc7d10-c649-425c-8a82-5342...</td>\n",
       "      <td>8ac7bcc3-969b-4381-9a93-4988e9131f07</td>\n",
       "      <td>2</td>\n",
       "    </tr>\n",
       "    <tr>\n",
       "      <th>3</th>\n",
       "      <td>3ef9f5c8-be8b-4ca3-8d58-1052774c8d82</td>\n",
       "      <td>Networking</td>\n",
       "      <td>[1, 3]</td>\n",
       "      <td>https://uploadthing.com/f/9cc40380-aff1-415e-a...</td>\n",
       "      <td>91fefe37-ba20-4c0e-a9f9-81796bfb148b</td>\n",
       "      <td>3</td>\n",
       "    </tr>\n",
       "    <tr>\n",
       "      <th>4</th>\n",
       "      <td>696d7a49-5b2a-48ae-9df7-a4cded9efa78</td>\n",
       "      <td>Spy Family</td>\n",
       "      <td>[2, 3]</td>\n",
       "      <td>https://utfs.io/f/61198458-d4f9-4a13-9eb3-a21a...</td>\n",
       "      <td>e96f1051-22e7-4406-82d3-051d21b66869</td>\n",
       "      <td>4</td>\n",
       "    </tr>\n",
       "    <tr>\n",
       "      <th>5</th>\n",
       "      <td>93537689-9067-48b5-874f-ce60c017354a</td>\n",
       "      <td>Test Server</td>\n",
       "      <td>[2, 3]</td>\n",
       "      <td>https://uploadthing.com/f/a125ac54-61ad-4b21-a...</td>\n",
       "      <td>2dbf33e5-3708-443e-bc97-70b425b51db1</td>\n",
       "      <td>5</td>\n",
       "    </tr>\n",
       "    <tr>\n",
       "      <th>6</th>\n",
       "      <td>96c40290-2449-4060-84f3-0e50dc4a083a</td>\n",
       "      <td>Cars</td>\n",
       "      <td>[3, 11]</td>\n",
       "      <td>https://uploadthing.com/f/c529fd47-b57e-4319-b...</td>\n",
       "      <td>130bcc53-899a-4ae8-8639-2e54f689dba0</td>\n",
       "      <td>6</td>\n",
       "    </tr>\n",
       "  </tbody>\n",
       "</table>\n",
       "</div>"
      ],
      "text/plain": [
       "                              server_id  server_name server_category  \\\n",
       "0  0748ee80-29be-48c7-a054-f909602df6e0         Hehe          [2, 6]   \n",
       "1  3bc533f0-0759-4a6d-b2d1-23e2fa052060    Bollywood          [6, 7]   \n",
       "2  3c4bfb6c-13e0-45be-b2f9-e25cd226abae   Spy Family             [2]   \n",
       "3  3ef9f5c8-be8b-4ca3-8d58-1052774c8d82   Networking          [1, 3]   \n",
       "4  696d7a49-5b2a-48ae-9df7-a4cded9efa78   Spy Family          [2, 3]   \n",
       "5  93537689-9067-48b5-874f-ce60c017354a  Test Server          [2, 3]   \n",
       "6  96c40290-2449-4060-84f3-0e50dc4a083a         Cars         [3, 11]   \n",
       "\n",
       "                                        server_image  \\\n",
       "0  https://uploadthing.com/f/1f109489-bdf6-4437-9...   \n",
       "1  https://uploadthing.com/f/3144076f-4ac7-4706-a...   \n",
       "2  https://utfs.io/f/e8bc7d10-c649-425c-8a82-5342...   \n",
       "3  https://uploadthing.com/f/9cc40380-aff1-415e-a...   \n",
       "4  https://utfs.io/f/61198458-d4f9-4a13-9eb3-a21a...   \n",
       "5  https://uploadthing.com/f/a125ac54-61ad-4b21-a...   \n",
       "6  https://uploadthing.com/f/c529fd47-b57e-4319-b...   \n",
       "\n",
       "                          server_invite  server_num  \n",
       "0  1e22bb1f-1b10-44ca-b820-3cd46bf14ff8           0  \n",
       "1  97262d08-6ab4-4ff5-9703-8e20a8195e47           1  \n",
       "2  8ac7bcc3-969b-4381-9a93-4988e9131f07           2  \n",
       "3  91fefe37-ba20-4c0e-a9f9-81796bfb148b           3  \n",
       "4  e96f1051-22e7-4406-82d3-051d21b66869           4  \n",
       "5  2dbf33e5-3708-443e-bc97-70b425b51db1           5  \n",
       "6  130bcc53-899a-4ae8-8639-2e54f689dba0           6  "
      ]
     },
     "execution_count": 18,
     "metadata": {},
     "output_type": "execute_result"
    }
   ],
   "source": [
    "recommender.df_server"
   ]
  },
  {
   "cell_type": "code",
   "execution_count": 15,
   "metadata": {},
   "outputs": [
    {
     "name": "stdout",
     "output_type": "stream",
     "text": [
      "Top server indices and scores:\n",
      "Index: 2, Score: 1.5317038297653198\n",
      "Index: 3, Score: 1.478163719177246\n",
      "Index: 4, Score: 1.3957676887512207\n",
      "Index: 5, Score: 1.39481520652771\n",
      "Index: 0, Score: 1.3617042303085327\n",
      "Index: 1, Score: 1.2974404096603394\n"
     ]
    }
   ],
   "source": [
    "recommendations = recommender.get_recommendations(\"user_2ph4s4Ku558Bhly1Lq7qnJOvyje\")"
   ]
  },
  {
   "cell_type": "code",
   "execution_count": 16,
   "metadata": {},
   "outputs": [
    {
     "data": {
      "text/plain": [
       "[{'server_id': '96c40290-2449-4060-84f3-0e50dc4a083a',\n",
       "  'server_name': 'Cars',\n",
       "  'server_category': [3, 11],\n",
       "  'server_image': 'https://uploadthing.com/f/c529fd47-b57e-4319-b564-d31b4f3d7e0f-h8zxqw.png',\n",
       "  'server_invite': '130bcc53-899a-4ae8-8639-2e54f689dba0'}]"
      ]
     },
     "execution_count": 16,
     "metadata": {},
     "output_type": "execute_result"
    }
   ],
   "source": [
    "recommendations"
   ]
  },
  {
   "cell_type": "code",
   "execution_count": null,
   "metadata": {},
   "outputs": [],
   "source": []
  }
 ],
 "metadata": {
  "kernelspec": {
   "display_name": ".venv",
   "language": "python",
   "name": "python3"
  },
  "language_info": {
   "codemirror_mode": {
    "name": "ipython",
    "version": 3
   },
   "file_extension": ".py",
   "mimetype": "text/x-python",
   "name": "python",
   "nbconvert_exporter": "python",
   "pygments_lexer": "ipython3",
   "version": "3.10.11"
  }
 },
 "nbformat": 4,
 "nbformat_minor": 2
}
