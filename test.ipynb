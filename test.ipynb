{
 "cells": [
  {
   "cell_type": "code",
   "execution_count": 1,
   "metadata": {},
   "outputs": [
    {
     "name": "stderr",
     "output_type": "stream",
     "text": [
      "c:\\Projects\\ConnecTeam Server Recommendation\\.venv\\lib\\site-packages\\lightfm\\_lightfm_fast.py:9: UserWarning: LightFM was compiled without OpenMP support. Only a single thread will be used.\n",
      "  warnings.warn(\n"
     ]
    }
   ],
   "source": [
    "import ast\n",
    "import numpy as np\n",
    "import pandas as pd\n",
    "from recommendation_model import RecommendationSystem\n"
   ]
  },
  {
   "cell_type": "code",
   "execution_count": 2,
   "metadata": {},
   "outputs": [],
   "source": [
    "interaction_data = [\n",
    "    {\n",
    "        \"user_id\": \"u1\",\n",
    "        \"user_name\": \"John\",\n",
    "        \"server_id\": \"s1\",\n",
    "        \"server_name\": \"TechServer\",\n",
    "        \"rating\": 5,\n",
    "        \"server_category\": \"[1, 2, 3]\"\n",
    "    },\n",
    "    {\n",
    "        \"user_id\": \"u2\",\n",
    "        \"user_name\": \"Jane\",\n",
    "        \"server_id\": \"s2\",\n",
    "        \"server_name\": \"MusicServer\",\n",
    "        \"rating\": 4,\n",
    "        \"server_category\": \"[3, 4]\"\n",
    "    },\n",
    "    {\n",
    "        \"user_id\": \"u3\",\n",
    "        \"user_name\": \"Mike\",\n",
    "        \"server_id\": \"s3\",\n",
    "        \"server_name\": \"GameServer\",\n",
    "        \"rating\": 5,\n",
    "        \"server_category\": \"[1, 4, 5]\"\n",
    "    },\n",
    "    {\n",
    "        \"user_id\": \"u4\",\n",
    "        \"user_name\": \"Anna\",\n",
    "        \"server_id\": \"s4\",\n",
    "        \"server_name\": \"ArtServer\",\n",
    "        \"rating\": 3,\n",
    "        \"server_category\": \"[6, 7]\"\n",
    "    },\n",
    "    {\n",
    "        \"user_id\": \"u5\",\n",
    "        \"user_name\": \"Lisa\",\n",
    "        \"server_id\": \"s5\",\n",
    "        \"server_name\": \"MusicTease\",\n",
    "        \"rating\": 4,\n",
    "        \"server_category\": \"[3, 4]\"\n",
    "    },\n",
    "    {\n",
    "        \"user_id\": \"u2\",\n",
    "        \"user_name\": \"Jane\",\n",
    "        \"server_id\": \"s3\",\n",
    "        \"server_name\": \"GameServer\",\n",
    "        \"rating\": 4,\n",
    "        \"server_category\": \"[1, 4]\"\n",
    "    },\n",
    "    {\n",
    "        \"user_id\": \"u1\",\n",
    "        \"user_name\": \"John\",\n",
    "        \"server_id\": \"s4\",\n",
    "        \"server_name\": \"ArtServer\",\n",
    "        \"rating\": 2,\n",
    "        \"server_category\": \"[6, 7]\"\n",
    "    },\n",
    "    {\n",
    "        \"user_id\": \"u3\",\n",
    "        \"user_name\": \"Mike\",\n",
    "        \"server_id\": \"s1\",\n",
    "        \"server_name\": \"TechServer\",\n",
    "        \"rating\": 3,\n",
    "        \"server_category\": \"[1, 2, 3]\"\n",
    "    },\n",
    "    {\n",
    "        \"user_id\": \"u5\",\n",
    "        \"user_name\": \"Lisa\",\n",
    "        \"server_id\": \"s2\",\n",
    "        \"server_name\": \"MusicServer\",\n",
    "        \"rating\": 5,\n",
    "        \"server_category\": \"[3, 4]\"\n",
    "    },\n",
    "    {\n",
    "        \"user_id\": \"u4\",\n",
    "        \"user_name\": \"Anna\",\n",
    "        \"server_id\": \"s6\",\n",
    "        \"server_name\": \"CookingServer\",\n",
    "        \"rating\": 5,\n",
    "        \"server_category\": \"[8]\"\n",
    "    },\n",
    "    {\n",
    "        \"user_id\": \"u2\",\n",
    "        \"user_name\": \"Jane\",\n",
    "        \"server_id\": \"s6\",\n",
    "        \"server_name\": \"CookingServer\",\n",
    "        \"rating\": 4,\n",
    "        \"server_category\": \"[8]\"\n",
    "    },\n",
    "    {\n",
    "        \"user_id\": \"u1\",\n",
    "        \"user_name\": \"John\",\n",
    "        \"server_id\": \"s3\",\n",
    "        \"server_name\": \"GameServer\",\n",
    "        \"rating\": 5,\n",
    "        \"server_category\": \"[1, 4, 5]\"\n",
    "    },\n",
    "    {\n",
    "        \"user_id\": \"u4\",\n",
    "        \"user_name\": \"Anna\",\n",
    "        \"server_id\": \"s1\",\n",
    "        \"server_name\": \"TechServer\",\n",
    "        \"rating\": 3,\n",
    "        \"server_category\": \"[1, 2, 3]\"\n",
    "    }\n",
    "]"
   ]
  },
  {
   "cell_type": "code",
   "execution_count": 3,
   "metadata": {},
   "outputs": [],
   "source": [
    "df_interaction = pd.DataFrame(interaction_data)"
   ]
  },
  {
   "cell_type": "code",
   "execution_count": 4,
   "metadata": {},
   "outputs": [],
   "source": [
    "df_server = df_interaction.groupby(['server_id', 'server_name'])['server_category'].apply(lambda x: sorted(set(item for sublist in x.apply(ast.literal_eval) for item in sublist))).reset_index()"
   ]
  },
  {
   "cell_type": "code",
   "execution_count": 5,
   "metadata": {},
   "outputs": [],
   "source": [
    "df_user = df_interaction.groupby(['user_id', 'user_name'])['server_category'].apply(lambda x: sorted(set(item for sublist in x.apply(ast.literal_eval) for item in sublist))).reset_index()"
   ]
  },
  {
   "cell_type": "code",
   "execution_count": 6,
   "metadata": {},
   "outputs": [],
   "source": [
    "df_category = pd.read_csv(\"Dataset\\server_category.csv\")"
   ]
  },
  {
   "cell_type": "code",
   "execution_count": 7,
   "metadata": {},
   "outputs": [],
   "source": [
    "df_user['user_num'] = range(len(df_user))\n",
    "df_server['server_num'] = range(len(df_server))"
   ]
  },
  {
   "cell_type": "code",
   "execution_count": 8,
   "metadata": {},
   "outputs": [],
   "source": [
    "recommender = RecommendationSystem()"
   ]
  },
  {
   "cell_type": "code",
   "execution_count": 9,
   "metadata": {},
   "outputs": [],
   "source": [
    "prep_result = recommender.prepare_data(df_interaction, df_server, df_user, df_category)"
   ]
  },
  {
   "cell_type": "code",
   "execution_count": 10,
   "metadata": {},
   "outputs": [
    {
     "name": "stdout",
     "output_type": "stream",
     "text": [
      "Precision@k: 0.4400\n",
      "Recall@k: 0.8667\n",
      "AUC: 0.4778\n"
     ]
    }
   ],
   "source": [
    "train_result = recommender.train_model()"
   ]
  },
  {
   "cell_type": "code",
   "execution_count": 11,
   "metadata": {},
   "outputs": [
    {
     "name": "stdout",
     "output_type": "stream",
     "text": [
      "Top server indices and scores:\n",
      "Index: 1, Score: 1.7978172302246094\n",
      "Index: 2, Score: 1.7192625999450684\n",
      "Index: 0, Score: 1.6827841997146606\n"
     ]
    }
   ],
   "source": [
    "recommendations = recommender.get_recommendations(\"u1\")"
   ]
  },
  {
   "cell_type": "code",
   "execution_count": 12,
   "metadata": {},
   "outputs": [
    {
     "data": {
      "text/plain": [
       "array([0, 1, 2, 3, 4, 5])"
      ]
     },
     "execution_count": 12,
     "metadata": {},
     "output_type": "execute_result"
    }
   ],
   "source": [
    "np.arange(len(recommender.df_server))"
   ]
  },
  {
   "cell_type": "code",
   "execution_count": 13,
   "metadata": {},
   "outputs": [],
   "source": [
    "test = recommender.df_interaction[recommender.df_interaction['user_num'] == 0]['server_num']"
   ]
  },
  {
   "cell_type": "code",
   "execution_count": 14,
   "metadata": {},
   "outputs": [
    {
     "data": {
      "text/plain": [
       "0     0\n",
       "6     3\n",
       "11    2\n",
       "Name: server_num, dtype: int64"
      ]
     },
     "execution_count": 14,
     "metadata": {},
     "output_type": "execute_result"
    }
   ],
   "source": [
    "test"
   ]
  },
  {
   "cell_type": "code",
   "execution_count": 15,
   "metadata": {},
   "outputs": [
    {
     "data": {
      "text/html": [
       "<div>\n",
       "<style scoped>\n",
       "    .dataframe tbody tr th:only-of-type {\n",
       "        vertical-align: middle;\n",
       "    }\n",
       "\n",
       "    .dataframe tbody tr th {\n",
       "        vertical-align: top;\n",
       "    }\n",
       "\n",
       "    .dataframe thead th {\n",
       "        text-align: right;\n",
       "    }\n",
       "</style>\n",
       "<table border=\"1\" class=\"dataframe\">\n",
       "  <thead>\n",
       "    <tr style=\"text-align: right;\">\n",
       "      <th></th>\n",
       "      <th>server_id</th>\n",
       "      <th>server_name</th>\n",
       "      <th>server_category</th>\n",
       "      <th>server_num</th>\n",
       "    </tr>\n",
       "  </thead>\n",
       "  <tbody>\n",
       "    <tr>\n",
       "      <th>1</th>\n",
       "      <td>s2</td>\n",
       "      <td>MusicServer</td>\n",
       "      <td>[3, 4]</td>\n",
       "      <td>1</td>\n",
       "    </tr>\n",
       "    <tr>\n",
       "      <th>4</th>\n",
       "      <td>s5</td>\n",
       "      <td>MusicTease</td>\n",
       "      <td>[3, 4]</td>\n",
       "      <td>4</td>\n",
       "    </tr>\n",
       "    <tr>\n",
       "      <th>5</th>\n",
       "      <td>s6</td>\n",
       "      <td>CookingServer</td>\n",
       "      <td>[8]</td>\n",
       "      <td>5</td>\n",
       "    </tr>\n",
       "  </tbody>\n",
       "</table>\n",
       "</div>"
      ],
      "text/plain": [
       "  server_id    server_name server_category  server_num\n",
       "1        s2    MusicServer          [3, 4]           1\n",
       "4        s5     MusicTease          [3, 4]           4\n",
       "5        s6  CookingServer             [8]           5"
      ]
     },
     "execution_count": 15,
     "metadata": {},
     "output_type": "execute_result"
    }
   ],
   "source": [
    "df_server[~df_server['server_num'].isin(test.values)]"
   ]
  },
  {
   "cell_type": "code",
   "execution_count": 16,
   "metadata": {},
   "outputs": [
    {
     "data": {
      "text/html": [
       "<div>\n",
       "<style scoped>\n",
       "    .dataframe tbody tr th:only-of-type {\n",
       "        vertical-align: middle;\n",
       "    }\n",
       "\n",
       "    .dataframe tbody tr th {\n",
       "        vertical-align: top;\n",
       "    }\n",
       "\n",
       "    .dataframe thead th {\n",
       "        text-align: right;\n",
       "    }\n",
       "</style>\n",
       "<table border=\"1\" class=\"dataframe\">\n",
       "  <thead>\n",
       "    <tr style=\"text-align: right;\">\n",
       "      <th></th>\n",
       "      <th>server_id</th>\n",
       "      <th>server_name</th>\n",
       "      <th>server_category</th>\n",
       "      <th>server_num</th>\n",
       "    </tr>\n",
       "  </thead>\n",
       "  <tbody>\n",
       "    <tr>\n",
       "      <th>0</th>\n",
       "      <td>s1</td>\n",
       "      <td>TechServer</td>\n",
       "      <td>[1, 2, 3]</td>\n",
       "      <td>0</td>\n",
       "    </tr>\n",
       "    <tr>\n",
       "      <th>2</th>\n",
       "      <td>s3</td>\n",
       "      <td>GameServer</td>\n",
       "      <td>[1, 4, 5]</td>\n",
       "      <td>2</td>\n",
       "    </tr>\n",
       "    <tr>\n",
       "      <th>3</th>\n",
       "      <td>s4</td>\n",
       "      <td>ArtServer</td>\n",
       "      <td>[6, 7]</td>\n",
       "      <td>3</td>\n",
       "    </tr>\n",
       "  </tbody>\n",
       "</table>\n",
       "</div>"
      ],
      "text/plain": [
       "  server_id server_name server_category  server_num\n",
       "0        s1  TechServer       [1, 2, 3]           0\n",
       "2        s3  GameServer       [1, 4, 5]           2\n",
       "3        s4   ArtServer          [6, 7]           3"
      ]
     },
     "execution_count": 16,
     "metadata": {},
     "output_type": "execute_result"
    }
   ],
   "source": [
    "df_server[df_server['server_num'].isin(test.values)]"
   ]
  },
  {
   "cell_type": "code",
   "execution_count": null,
   "metadata": {},
   "outputs": [],
   "source": []
  }
 ],
 "metadata": {
  "kernelspec": {
   "display_name": ".venv",
   "language": "python",
   "name": "python3"
  },
  "language_info": {
   "codemirror_mode": {
    "name": "ipython",
    "version": 3
   },
   "file_extension": ".py",
   "mimetype": "text/x-python",
   "name": "python",
   "nbconvert_exporter": "python",
   "pygments_lexer": "ipython3",
   "version": "3.10.11"
  }
 },
 "nbformat": 4,
 "nbformat_minor": 2
}
