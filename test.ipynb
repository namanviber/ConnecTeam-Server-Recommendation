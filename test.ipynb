{
 "cells": [
  {
   "cell_type": "code",
   "execution_count": 1,
   "metadata": {},
   "outputs": [
    {
     "name": "stderr",
     "output_type": "stream",
     "text": [
      "c:\\Projects\\ConnecTeam Server Recommendation\\.venv\\lib\\site-packages\\lightfm\\_lightfm_fast.py:9: UserWarning: LightFM was compiled without OpenMP support. Only a single thread will be used.\n",
      "  warnings.warn(\n"
     ]
    }
   ],
   "source": [
    "import ast\n",
    "import numpy as np\n",
    "import pandas as pd\n",
    "from recommendation_model import RecommendationSystem\n"
   ]
  },
  {
   "cell_type": "code",
   "execution_count": 2,
   "metadata": {},
   "outputs": [],
   "source": [
    "interaction_data = [\n",
    "    {\n",
    "        \"user_id\": \"u12345\",\n",
    "        \"user_name\": \"Alice\",\n",
    "        \"server_id\": \"s67890\",\n",
    "        \"server_name\": \"TechTalk\",\n",
    "        \"rating\": 4,\n",
    "        \"server_category\": \"[1, 3]\",\n",
    "        \"server_image\": \"https://example.com/image1.png\",\n",
    "        \"server_invite\": \"https://example.com/invite1\"\n",
    "    },\n",
    "    {\n",
    "        \"user_id\": \"u12345\",\n",
    "        \"user_name\": \"Alice\",\n",
    "        \"server_id\": \"s11223\",\n",
    "        \"server_name\": \"GamingHub\",\n",
    "        \"rating\": 5,\n",
    "        \"server_category\": \"[2, 5]\",\n",
    "        \"server_image\": \"https://example.com/image2.png\",\n",
    "        \"server_invite\": \"https://example.com/invite2\"\n",
    "    },\n",
    "    {\n",
    "        \"user_id\": \"u67890\",\n",
    "        \"user_name\": \"Bob\",\n",
    "        \"server_id\": \"s67890\",\n",
    "        \"server_name\": \"TechTalk\",\n",
    "        \"rating\": 5,\n",
    "        \"server_category\": \"[1, 3]\",\n",
    "        \"server_image\": \"https://example.com/image1.png\",\n",
    "        \"server_invite\": \"https://example.com/invite1\"\n",
    "    },\n",
    "    {\n",
    "        \"user_id\": \"u67890\",\n",
    "        \"user_name\": \"Bob\",\n",
    "        \"server_id\": \"s44556\",\n",
    "        \"server_name\": \"ArtForum\",\n",
    "        \"rating\": 3,\n",
    "        \"server_category\": \"[4, 6]\",\n",
    "        \"server_image\": \"https://example.com/image3.png\",\n",
    "        \"server_invite\": \"https://example.com/invite3\"\n",
    "    },\n",
    "    {\n",
    "        \"user_id\": \"u11223\",\n",
    "        \"user_name\": \"Charlie\",\n",
    "        \"server_id\": \"s11223\",\n",
    "        \"server_name\": \"GamingHub\",\n",
    "        \"rating\": 4,\n",
    "        \"server_category\": \"[2, 5]\",\n",
    "        \"server_image\": \"https://example.com/image2.png\",\n",
    "        \"server_invite\": \"https://example.com/invite2\"\n",
    "    },\n",
    "    {\n",
    "        \"user_id\": \"u11223\",\n",
    "        \"user_name\": \"Charlie\",\n",
    "        \"server_id\": \"s67890\",\n",
    "        \"server_name\": \"TechTalk\",\n",
    "        \"rating\": 4,\n",
    "        \"server_category\": \"[1, 3]\",\n",
    "        \"server_image\": \"https://example.com/image1.png\",\n",
    "        \"server_invite\": \"https://example.com/invite1\"\n",
    "    },\n",
    "    {\n",
    "        \"user_id\": \"u33445\",\n",
    "        \"user_name\": \"David\",\n",
    "        \"server_id\": \"s44556\",\n",
    "        \"server_name\": \"ArtForum\",\n",
    "        \"rating\": 5,\n",
    "        \"server_category\": \"[4, 6]\",\n",
    "        \"server_image\": \"https://example.com/image3.png\",\n",
    "        \"server_invite\": \"https://example.com/invite3\"\n",
    "    },\n",
    "    {\n",
    "        \"user_id\": \"u33445\",\n",
    "        \"user_name\": \"David\",\n",
    "        \"server_id\": \"s99887\",\n",
    "        \"server_name\": \"CodeCorner\",\n",
    "        \"rating\": 4,\n",
    "        \"server_category\": \"[1, 7]\",\n",
    "        \"server_image\": \"https://example.com/image4.png\",\n",
    "        \"server_invite\": \"https://example.com/invite4\"\n",
    "    },\n",
    "    {\n",
    "        \"user_id\": \"u55667\",\n",
    "        \"user_name\": \"Eve\",\n",
    "        \"server_id\": \"s99887\",\n",
    "        \"server_name\": \"CodeCorner\",\n",
    "        \"rating\": 3,\n",
    "        \"server_category\": \"[1, 7]\",\n",
    "        \"server_image\": \"https://example.com/image4.png\",\n",
    "        \"server_invite\": \"https://example.com/invite4\"\n",
    "    },\n",
    "    {\n",
    "        \"user_id\": \"u55667\",\n",
    "        \"user_name\": \"Eve\",\n",
    "        \"server_id\": \"s11223\",\n",
    "        \"server_name\": \"GamingHub\",\n",
    "        \"rating\": 5,\n",
    "        \"server_category\": \"[2, 5]\",\n",
    "        \"server_image\": \"https://example.com/image2.png\",\n",
    "        \"server_invite\": \"https://example.com/invite2\"\n",
    "    },\n",
    "    {\n",
    "        \"user_id\": \"u77889\",\n",
    "        \"user_name\": \"Fiona\",\n",
    "        \"server_id\": \"s44556\",\n",
    "        \"server_name\": \"ArtForum\",\n",
    "        \"rating\": 4,\n",
    "        \"server_category\": \"[4, 6]\",\n",
    "        \"server_image\": \"https://example.com/image3.png\",\n",
    "        \"server_invite\": \"https://example.com/invite3\"\n",
    "    },\n",
    "    {\n",
    "        \"user_id\": \"u77889\",\n",
    "        \"user_name\": \"Fiona\",\n",
    "        \"server_id\": \"s67890\",\n",
    "        \"server_name\": \"TechTalk\",\n",
    "        \"rating\": 5,\n",
    "        \"server_category\": \"[1, 3]\",\n",
    "        \"server_image\": \"https://example.com/image1.png\",\n",
    "        \"server_invite\": \"https://example.com/invite1\"\n",
    "    },\n",
    "    {\n",
    "        \"user_id\": \"u88990\",\n",
    "        \"user_name\": \"George\",\n",
    "        \"server_id\": \"s99887\",\n",
    "        \"server_name\": \"CodeCorner\",\n",
    "        \"rating\": 4,\n",
    "        \"server_category\": \"[1, 7]\",\n",
    "        \"server_image\": \"https://example.com/image4.png\",\n",
    "        \"server_invite\": \"https://example.com/invite4\"\n",
    "    },\n",
    "    {\n",
    "        \"user_id\": \"u88990\",\n",
    "        \"user_name\": \"George\",\n",
    "        \"server_id\": \"s44556\",\n",
    "        \"server_name\": \"ArtForum\",\n",
    "        \"rating\": 3,\n",
    "        \"server_category\": \"[4, 6]\",\n",
    "        \"server_image\": \"https://example.com/image3.png\",\n",
    "        \"server_invite\": \"https://example.com/invite3\"\n",
    "    },\n",
    "    {\n",
    "        \"user_id\": \"u99001\",\n",
    "        \"user_name\": \"Hannah\",\n",
    "        \"server_id\": \"s67890\",\n",
    "        \"server_name\": \"TechTalk\",\n",
    "        \"rating\": 5,\n",
    "        \"server_category\": \"[1, 3]\",\n",
    "        \"server_image\": \"https://example.com/image1.png\",\n",
    "        \"server_invite\": \"https://example.com/invite1\"\n",
    "    },\n",
    "    {\n",
    "        \"user_id\": \"u99001\",\n",
    "        \"user_name\": \"Hannah\",\n",
    "        \"server_id\": \"s11223\",\n",
    "        \"server_name\": \"GamingHub\",\n",
    "        \"rating\": 5,\n",
    "        \"server_category\": \"[2, 5]\",\n",
    "        \"server_image\": \"https://example.com/image2.png\",\n",
    "        \"server_invite\": \"https://example.com/invite2\"\n",
    "    },\n",
    "    {\n",
    "        \"user_id\": \"u33445\",\n",
    "        \"user_name\": \"David\",\n",
    "        \"server_id\": \"s12345\",\n",
    "        \"server_name\": \"MusicMania\",\n",
    "        \"rating\": 5,\n",
    "        \"server_category\": \"[8, 9]\",\n",
    "        \"server_image\": \"https://example.com/image5.png\",\n",
    "        \"server_invite\": \"https://example.com/invite5\"\n",
    "    },\n",
    "    {\n",
    "        \"user_id\": \"u11223\",\n",
    "        \"user_name\": \"Charlie\",\n",
    "        \"server_id\": \"s12345\",\n",
    "        \"server_name\": \"MusicMania\",\n",
    "        \"rating\": 4,\n",
    "        \"server_category\": \"[8, 9]\",\n",
    "        \"server_image\": \"https://example.com/image5.png\",\n",
    "        \"server_invite\": \"https://example.com/invite5\"\n",
    "    },\n",
    "    {\n",
    "        \"user_id\": \"u55667\",\n",
    "        \"user_name\": \"Eve\",\n",
    "        \"server_id\": \"s12345\",\n",
    "        \"server_name\": \"MusicMania\",\n",
    "        \"rating\": 4,\n",
    "        \"server_category\": \"[8, 9]\",\n",
    "        \"server_image\": \"https://example.com/image5.png\",\n",
    "        \"server_invite\": \"https://example.com/invite5\"\n",
    "    }\n",
    "]\n"
   ]
  },
  {
   "cell_type": "code",
   "execution_count": 3,
   "metadata": {},
   "outputs": [],
   "source": [
    "df_interaction = pd.DataFrame(interaction_data)"
   ]
  },
  {
   "cell_type": "code",
   "execution_count": 4,
   "metadata": {},
   "outputs": [],
   "source": [
    "df_server = (\n",
    "    df_interaction.groupby(['server_id', 'server_name'])\n",
    "    .apply(lambda group: pd.Series({\n",
    "        'server_category': sorted(set(item for sublist in group['server_category'].apply(ast.literal_eval) for item in sublist)),\n",
    "        'server_image': group['server_image'].iloc[0], \n",
    "        'server_invite': group['server_invite'].iloc[0],\n",
    "    }))\n",
    "    .reset_index()\n",
    ")\n"
   ]
  },
  {
   "cell_type": "code",
   "execution_count": 5,
   "metadata": {},
   "outputs": [],
   "source": [
    "df_user = df_interaction.groupby(['user_id', 'user_name'])['server_category'].apply(lambda x: sorted(set(item for sublist in x.apply(ast.literal_eval) for item in sublist))).reset_index()"
   ]
  },
  {
   "cell_type": "code",
   "execution_count": 6,
   "metadata": {},
   "outputs": [],
   "source": [
    "df_category = pd.read_csv(\"Dataset\\server_category.csv\")"
   ]
  },
  {
   "cell_type": "code",
   "execution_count": 7,
   "metadata": {},
   "outputs": [],
   "source": [
    "df_user['user_num'] = range(len(df_user))\n",
    "df_server['server_num'] = range(len(df_server))"
   ]
  },
  {
   "cell_type": "code",
   "execution_count": 8,
   "metadata": {},
   "outputs": [],
   "source": [
    "recommender = RecommendationSystem()"
   ]
  },
  {
   "cell_type": "code",
   "execution_count": 9,
   "metadata": {},
   "outputs": [],
   "source": [
    "prep_result = recommender.prepare_data(df_interaction, df_server, df_user, df_category)"
   ]
  },
  {
   "cell_type": "code",
   "execution_count": 10,
   "metadata": {},
   "outputs": [
    {
     "name": "stdout",
     "output_type": "stream",
     "text": [
      "Precision@k: 0.4750\n",
      "Recall@k: 1.0000\n",
      "AUC: 0.5625\n"
     ]
    }
   ],
   "source": [
    "train_result = recommender.train_model()"
   ]
  },
  {
   "cell_type": "code",
   "execution_count": 18,
   "metadata": {},
   "outputs": [
    {
     "name": "stdout",
     "output_type": "stream",
     "text": [
      "Top server indices and scores:\n",
      "Index: 2, Score: 2.0025017261505127\n",
      "Index: 0, Score: 1.9460208415985107\n",
      "Index: 1, Score: 1.9387720823287964\n"
     ]
    }
   ],
   "source": [
    "recommendations = recommender.get_recommendations(\"u67890\")"
   ]
  },
  {
   "cell_type": "code",
   "execution_count": 19,
   "metadata": {},
   "outputs": [
    {
     "data": {
      "text/plain": [
       "[{'server_id': 's67890',\n",
       "  'server_name': 'TechTalk',\n",
       "  'server_category': [1, 3],\n",
       "  'server_image': 'https://example.com/image1.png',\n",
       "  'server_invite': 'https://example.com/invite1'},\n",
       " {'server_id': 's99887',\n",
       "  'server_name': 'CodeCorner',\n",
       "  'server_category': [1, 7],\n",
       "  'server_image': 'https://example.com/image4.png',\n",
       "  'server_invite': 'https://example.com/invite4'}]"
      ]
     },
     "execution_count": 19,
     "metadata": {},
     "output_type": "execute_result"
    }
   ],
   "source": [
    "recommendations"
   ]
  }
 ],
 "metadata": {
  "kernelspec": {
   "display_name": ".venv",
   "language": "python",
   "name": "python3"
  },
  "language_info": {
   "codemirror_mode": {
    "name": "ipython",
    "version": 3
   },
   "file_extension": ".py",
   "mimetype": "text/x-python",
   "name": "python",
   "nbconvert_exporter": "python",
   "pygments_lexer": "ipython3",
   "version": "3.10.11"
  }
 },
 "nbformat": 4,
 "nbformat_minor": 2
}
