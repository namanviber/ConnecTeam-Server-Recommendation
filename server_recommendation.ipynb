{
 "cells": [
  {
   "cell_type": "markdown",
   "metadata": {},
   "source": [
    "### Downloading Libraries"
   ]
  },
  {
   "cell_type": "code",
   "execution_count": 3,
   "metadata": {
    "execution": {
     "iopub.execute_input": "2024-11-23T14:04:25.180548Z",
     "iopub.status.busy": "2024-11-23T14:04:25.180073Z",
     "iopub.status.idle": "2024-11-23T14:04:46.187894Z",
     "shell.execute_reply": "2024-11-23T14:04:46.186713Z",
     "shell.execute_reply.started": "2024-11-23T14:04:25.180510Z"
    },
    "trusted": true
   },
   "outputs": [
    {
     "name": "stdout",
     "output_type": "stream",
     "text": [
      "Collecting lightfm\n",
      "  Downloading lightfm-1.17.tar.gz (316 kB)\n",
      "\u001b[2K     \u001b[90m━━━━━━━━━━━━━━━━━━━━━━━━━━━━━━━━━━━━━━━\u001b[0m \u001b[32m316.4/316.4 kB\u001b[0m \u001b[31m8.1 MB/s\u001b[0m eta \u001b[36m0:00:00\u001b[0ma \u001b[36m0:00:01\u001b[0m\n",
      "\u001b[?25h  Preparing metadata (setup.py) ... \u001b[?25ldone\n",
      "\u001b[?25hRequirement already satisfied: numpy in /opt/conda/lib/python3.10/site-packages (from lightfm) (1.26.4)\n",
      "Requirement already satisfied: scipy>=0.17.0 in /opt/conda/lib/python3.10/site-packages (from lightfm) (1.14.1)\n",
      "Requirement already satisfied: requests in /opt/conda/lib/python3.10/site-packages (from lightfm) (2.32.3)\n",
      "Requirement already satisfied: scikit-learn in /opt/conda/lib/python3.10/site-packages (from lightfm) (1.2.2)\n",
      "Requirement already satisfied: charset-normalizer<4,>=2 in /opt/conda/lib/python3.10/site-packages (from requests->lightfm) (3.3.2)\n",
      "Requirement already satisfied: idna<4,>=2.5 in /opt/conda/lib/python3.10/site-packages (from requests->lightfm) (3.7)\n",
      "Requirement already satisfied: urllib3<3,>=1.21.1 in /opt/conda/lib/python3.10/site-packages (from requests->lightfm) (1.26.18)\n",
      "Requirement already satisfied: certifi>=2017.4.17 in /opt/conda/lib/python3.10/site-packages (from requests->lightfm) (2024.8.30)\n",
      "Requirement already satisfied: joblib>=1.1.1 in /opt/conda/lib/python3.10/site-packages (from scikit-learn->lightfm) (1.4.2)\n",
      "Requirement already satisfied: threadpoolctl>=2.0.0 in /opt/conda/lib/python3.10/site-packages (from scikit-learn->lightfm) (3.5.0)\n",
      "Building wheels for collected packages: lightfm\n",
      "  Building wheel for lightfm (setup.py) ... \u001b[?25ldone\n",
      "\u001b[?25h  Created wheel for lightfm: filename=lightfm-1.17-cp310-cp310-linux_x86_64.whl size=464212 sha256=94f17dd21a181feabb1245bf75c807d71aaf3f1fe28bd046173633496d308154\n",
      "  Stored in directory: /root/.cache/pip/wheels/4f/9b/7e/0b256f2168511d8fa4dae4fae0200fdbd729eb424a912ad636\n",
      "Successfully built lightfm\n",
      "Installing collected packages: lightfm\n",
      "Successfully installed lightfm-1.17\n"
     ]
    }
   ],
   "source": [
    "!pip install lightfm"
   ]
  },
  {
   "cell_type": "markdown",
   "metadata": {},
   "source": [
    "## Importing Libraries"
   ]
  },
  {
   "cell_type": "code",
   "execution_count": 55,
   "metadata": {
    "execution": {
     "iopub.execute_input": "2024-11-23T14:43:00.604536Z",
     "iopub.status.busy": "2024-11-23T14:43:00.603722Z",
     "iopub.status.idle": "2024-11-23T14:43:00.613035Z",
     "shell.execute_reply": "2024-11-23T14:43:00.611988Z",
     "shell.execute_reply.started": "2024-11-23T14:43:00.604499Z"
    },
    "trusted": true
   },
   "outputs": [],
   "source": [
    "import numpy as np\n",
    "import pandas as pd\n",
    "from lightfm.data import Dataset\n",
    "from lightfm import LightFM\n",
    "from lightfm.evaluation import precision_at_k, recall_at_k, auc_score\n",
    "from sklearn.preprocessing import MultiLabelBinarizer\n",
    "from scipy.sparse import csr_matrix\n",
    "from IPython.display import display\n",
    "import pickle\n",
    "import os\n",
    "\n",
    "import warnings\n",
    "warnings.filterwarnings('ignore')"
   ]
  },
  {
   "cell_type": "markdown",
   "metadata": {},
   "source": [
    "### Gathering Data "
   ]
  },
  {
   "cell_type": "code",
   "execution_count": null,
   "metadata": {
    "execution": {
     "iopub.execute_input": "2024-11-23T14:25:47.811463Z",
     "iopub.status.busy": "2024-11-23T14:25:47.811066Z",
     "iopub.status.idle": "2024-11-23T14:25:48.072165Z",
     "shell.execute_reply": "2024-11-23T14:25:48.070806Z",
     "shell.execute_reply.started": "2024-11-23T14:25:47.811429Z"
    },
    "trusted": true
   },
   "outputs": [
    {
     "data": {
      "text/html": [
       "<div>\n",
       "<style scoped>\n",
       "    .dataframe tbody tr th:only-of-type {\n",
       "        vertical-align: middle;\n",
       "    }\n",
       "\n",
       "    .dataframe tbody tr th {\n",
       "        vertical-align: top;\n",
       "    }\n",
       "\n",
       "    .dataframe thead th {\n",
       "        text-align: right;\n",
       "    }\n",
       "</style>\n",
       "<table border=\"1\" class=\"dataframe\">\n",
       "  <thead>\n",
       "    <tr style=\"text-align: right;\">\n",
       "      <th></th>\n",
       "      <th>user_id</th>\n",
       "      <th>user_name</th>\n",
       "      <th>server_id</th>\n",
       "      <th>server_name</th>\n",
       "      <th>rating</th>\n",
       "      <th>server_category</th>\n",
       "    </tr>\n",
       "  </thead>\n",
       "  <tbody>\n",
       "    <tr>\n",
       "      <th>0</th>\n",
       "      <td>user_01c9fb9caa27</td>\n",
       "      <td>Sophia Brown</td>\n",
       "      <td>9550bcac-6844-472f-b142-8bff64f42009</td>\n",
       "      <td>Art Lounge Connect</td>\n",
       "      <td>1.0</td>\n",
       "      <td>[3, 12]</td>\n",
       "    </tr>\n",
       "    <tr>\n",
       "      <th>1</th>\n",
       "      <td>user_135b81fdbcd2</td>\n",
       "      <td>John Smith</td>\n",
       "      <td>f08a46ea-b680-46d7-8e6e-ffe744b2497b</td>\n",
       "      <td>Gaming Hub Connect</td>\n",
       "      <td>NaN</td>\n",
       "      <td>[13]</td>\n",
       "    </tr>\n",
       "    <tr>\n",
       "      <th>2</th>\n",
       "      <td>user_135b81fdbcd2</td>\n",
       "      <td>John Smith</td>\n",
       "      <td>83d39e6b-ce67-468d-872e-956e277e8b4c</td>\n",
       "      <td>Gaming Hub Circle</td>\n",
       "      <td>2.0</td>\n",
       "      <td>[4, 14, 3]</td>\n",
       "    </tr>\n",
       "    <tr>\n",
       "      <th>3</th>\n",
       "      <td>user_135b81fdbcd2</td>\n",
       "      <td>John Smith</td>\n",
       "      <td>62c7b792-6424-4f36-adba-f1fe8e4e96bc</td>\n",
       "      <td>Study Zone Circle</td>\n",
       "      <td>2.0</td>\n",
       "      <td>[7]</td>\n",
       "    </tr>\n",
       "    <tr>\n",
       "      <th>4</th>\n",
       "      <td>user_135b81fdbcd2</td>\n",
       "      <td>John Smith</td>\n",
       "      <td>8bf6e9ec-50d8-4e17-af1f-516deb6c7ae1</td>\n",
       "      <td>Art Lounge Circle</td>\n",
       "      <td>4.0</td>\n",
       "      <td>[7, 4, 13]</td>\n",
       "    </tr>\n",
       "  </tbody>\n",
       "</table>\n",
       "</div>"
      ],
      "text/plain": [
       "             user_id     user_name                             server_id  \\\n",
       "0  user_01c9fb9caa27  Sophia Brown  9550bcac-6844-472f-b142-8bff64f42009   \n",
       "1  user_135b81fdbcd2    John Smith  f08a46ea-b680-46d7-8e6e-ffe744b2497b   \n",
       "2  user_135b81fdbcd2    John Smith  83d39e6b-ce67-468d-872e-956e277e8b4c   \n",
       "3  user_135b81fdbcd2    John Smith  62c7b792-6424-4f36-adba-f1fe8e4e96bc   \n",
       "4  user_135b81fdbcd2    John Smith  8bf6e9ec-50d8-4e17-af1f-516deb6c7ae1   \n",
       "\n",
       "          server_name  rating server_category  \n",
       "0  Art Lounge Connect     1.0         [3, 12]  \n",
       "1  Gaming Hub Connect     NaN            [13]  \n",
       "2   Gaming Hub Circle     2.0      [4, 14, 3]  \n",
       "3   Study Zone Circle     2.0             [7]  \n",
       "4   Art Lounge Circle     4.0      [7, 4, 13]  "
      ]
     },
     "execution_count": 32,
     "metadata": {},
     "output_type": "execute_result"
    }
   ],
   "source": [
    "base_path = 'Dataset'\n",
    "df_interaction = pd.read_csv(base_path + \"/server_interaction.csv\")\n",
    "df_server = pd.read_csv(base_path + \"/server_data.csv\")\n",
    "df_user = pd.read_csv(base_path + \"/user_data.csv\")\n",
    "df_category = pd.read_csv(base_path + \"/server_category.csv\")\n",
    "\n",
    "df_interaction.head()"
   ]
  },
  {
   "cell_type": "code",
   "execution_count": 33,
   "metadata": {
    "execution": {
     "iopub.execute_input": "2024-11-23T14:25:48.312955Z",
     "iopub.status.busy": "2024-11-23T14:25:48.312559Z",
     "iopub.status.idle": "2024-11-23T14:25:48.325132Z",
     "shell.execute_reply": "2024-11-23T14:25:48.323647Z",
     "shell.execute_reply.started": "2024-11-23T14:25:48.312906Z"
    },
    "trusted": true
   },
   "outputs": [
    {
     "data": {
      "text/html": [
       "<div>\n",
       "<style scoped>\n",
       "    .dataframe tbody tr th:only-of-type {\n",
       "        vertical-align: middle;\n",
       "    }\n",
       "\n",
       "    .dataframe tbody tr th {\n",
       "        vertical-align: top;\n",
       "    }\n",
       "\n",
       "    .dataframe thead th {\n",
       "        text-align: right;\n",
       "    }\n",
       "</style>\n",
       "<table border=\"1\" class=\"dataframe\">\n",
       "  <thead>\n",
       "    <tr style=\"text-align: right;\">\n",
       "      <th></th>\n",
       "      <th>server_id</th>\n",
       "      <th>server_name</th>\n",
       "      <th>server_category</th>\n",
       "      <th>server_num</th>\n",
       "    </tr>\n",
       "  </thead>\n",
       "  <tbody>\n",
       "    <tr>\n",
       "      <th>0</th>\n",
       "      <td>0007f352-7249-45f2-a8fa-3e9e68211472</td>\n",
       "      <td>Finance World Corner</td>\n",
       "      <td>[1, 12, 13]</td>\n",
       "      <td>0</td>\n",
       "    </tr>\n",
       "    <tr>\n",
       "      <th>1</th>\n",
       "      <td>002468de-aae1-42a0-8e61-1609d8df4269</td>\n",
       "      <td>Finance World Corner</td>\n",
       "      <td>[8, 12]</td>\n",
       "      <td>1</td>\n",
       "    </tr>\n",
       "    <tr>\n",
       "      <th>2</th>\n",
       "      <td>014f84ea-afd2-482a-974a-51a2aa81c1c2</td>\n",
       "      <td>Art Lounge Corner</td>\n",
       "      <td>[11]</td>\n",
       "      <td>2</td>\n",
       "    </tr>\n",
       "    <tr>\n",
       "      <th>3</th>\n",
       "      <td>01ffb523-c74e-430d-bd9d-8f794f2d1eaf</td>\n",
       "      <td>Tech Talks Fans</td>\n",
       "      <td>[4]</td>\n",
       "      <td>3</td>\n",
       "    </tr>\n",
       "    <tr>\n",
       "      <th>4</th>\n",
       "      <td>0259a8db-4a52-492a-a0c8-fed4945fd2c8</td>\n",
       "      <td>Art Lounge Fans</td>\n",
       "      <td>[2, 11]</td>\n",
       "      <td>4</td>\n",
       "    </tr>\n",
       "  </tbody>\n",
       "</table>\n",
       "</div>"
      ],
      "text/plain": [
       "                              server_id           server_name server_category  \\\n",
       "0  0007f352-7249-45f2-a8fa-3e9e68211472  Finance World Corner     [1, 12, 13]   \n",
       "1  002468de-aae1-42a0-8e61-1609d8df4269  Finance World Corner         [8, 12]   \n",
       "2  014f84ea-afd2-482a-974a-51a2aa81c1c2     Art Lounge Corner            [11]   \n",
       "3  01ffb523-c74e-430d-bd9d-8f794f2d1eaf       Tech Talks Fans             [4]   \n",
       "4  0259a8db-4a52-492a-a0c8-fed4945fd2c8       Art Lounge Fans         [2, 11]   \n",
       "\n",
       "   server_num  \n",
       "0           0  \n",
       "1           1  \n",
       "2           2  \n",
       "3           3  \n",
       "4           4  "
      ]
     },
     "execution_count": 33,
     "metadata": {},
     "output_type": "execute_result"
    }
   ],
   "source": [
    "df_server.head()"
   ]
  },
  {
   "cell_type": "code",
   "execution_count": 34,
   "metadata": {
    "execution": {
     "iopub.execute_input": "2024-11-23T14:25:49.315132Z",
     "iopub.status.busy": "2024-11-23T14:25:49.314661Z",
     "iopub.status.idle": "2024-11-23T14:25:49.327547Z",
     "shell.execute_reply": "2024-11-23T14:25:49.326099Z",
     "shell.execute_reply.started": "2024-11-23T14:25:49.315096Z"
    },
    "trusted": true
   },
   "outputs": [
    {
     "data": {
      "text/html": [
       "<div>\n",
       "<style scoped>\n",
       "    .dataframe tbody tr th:only-of-type {\n",
       "        vertical-align: middle;\n",
       "    }\n",
       "\n",
       "    .dataframe tbody tr th {\n",
       "        vertical-align: top;\n",
       "    }\n",
       "\n",
       "    .dataframe thead th {\n",
       "        text-align: right;\n",
       "    }\n",
       "</style>\n",
       "<table border=\"1\" class=\"dataframe\">\n",
       "  <thead>\n",
       "    <tr style=\"text-align: right;\">\n",
       "      <th></th>\n",
       "      <th>user_id</th>\n",
       "      <th>user_name</th>\n",
       "      <th>interest</th>\n",
       "      <th>user_num</th>\n",
       "    </tr>\n",
       "  </thead>\n",
       "  <tbody>\n",
       "    <tr>\n",
       "      <th>0</th>\n",
       "      <td>user_000079613cbf</td>\n",
       "      <td>Emma Wilson</td>\n",
       "      <td>[3, 4, 5, 7, 8, 9, 10, 12, 13, 14, 15]</td>\n",
       "      <td>0</td>\n",
       "    </tr>\n",
       "    <tr>\n",
       "      <th>1</th>\n",
       "      <td>user_0000b1756c2b</td>\n",
       "      <td>Noah Taylor</td>\n",
       "      <td>[3, 4, 5, 7, 9, 13]</td>\n",
       "      <td>1</td>\n",
       "    </tr>\n",
       "    <tr>\n",
       "      <th>2</th>\n",
       "      <td>user_000138baf092</td>\n",
       "      <td>John Wilson</td>\n",
       "      <td>[3, 4, 6, 8, 9, 10, 11, 13, 14]</td>\n",
       "      <td>2</td>\n",
       "    </tr>\n",
       "    <tr>\n",
       "      <th>3</th>\n",
       "      <td>user_0001e82b5908</td>\n",
       "      <td>Noah Taylor</td>\n",
       "      <td>[2, 3, 6, 8, 9, 11, 12, 13, 15]</td>\n",
       "      <td>3</td>\n",
       "    </tr>\n",
       "    <tr>\n",
       "      <th>4</th>\n",
       "      <td>user_0002454e2a97</td>\n",
       "      <td>Olivia Brown</td>\n",
       "      <td>[1, 4, 7, 8, 10, 11, 12, 13, 15]</td>\n",
       "      <td>4</td>\n",
       "    </tr>\n",
       "  </tbody>\n",
       "</table>\n",
       "</div>"
      ],
      "text/plain": [
       "             user_id     user_name                                interest  \\\n",
       "0  user_000079613cbf   Emma Wilson  [3, 4, 5, 7, 8, 9, 10, 12, 13, 14, 15]   \n",
       "1  user_0000b1756c2b   Noah Taylor                     [3, 4, 5, 7, 9, 13]   \n",
       "2  user_000138baf092   John Wilson         [3, 4, 6, 8, 9, 10, 11, 13, 14]   \n",
       "3  user_0001e82b5908   Noah Taylor         [2, 3, 6, 8, 9, 11, 12, 13, 15]   \n",
       "4  user_0002454e2a97  Olivia Brown        [1, 4, 7, 8, 10, 11, 12, 13, 15]   \n",
       "\n",
       "   user_num  \n",
       "0         0  \n",
       "1         1  \n",
       "2         2  \n",
       "3         3  \n",
       "4         4  "
      ]
     },
     "execution_count": 34,
     "metadata": {},
     "output_type": "execute_result"
    }
   ],
   "source": [
    "df_user.head()"
   ]
  },
  {
   "cell_type": "code",
   "execution_count": 35,
   "metadata": {
    "execution": {
     "iopub.execute_input": "2024-11-23T14:25:50.083825Z",
     "iopub.status.busy": "2024-11-23T14:25:50.083325Z",
     "iopub.status.idle": "2024-11-23T14:25:50.093185Z",
     "shell.execute_reply": "2024-11-23T14:25:50.091511Z",
     "shell.execute_reply.started": "2024-11-23T14:25:50.083786Z"
    },
    "trusted": true
   },
   "outputs": [
    {
     "name": "stdout",
     "output_type": "stream",
     "text": [
      "Server Interactions: \n",
      "Rows:  110625  | Columns:  6\n",
      "Server Records: \n",
      "Rows:  1000  | Columns:  4\n",
      "User Records: \n",
      "Rows:  20000  | Columns:  4\n",
      "Server Categories: \n",
      "Rows:  15  | Columns:  2\n"
     ]
    }
   ],
   "source": [
    "df_category.head()\n",
    "\n",
    "print(\"Server Interactions: \\nRows: \", df_interaction.shape[0], \" | Columns: \", df_interaction.shape[1])\n",
    "print(\"Server Records: \\nRows: \", df_server.shape[0], \" | Columns: \", df_server.shape[1])\n",
    "print(\"User Records: \\nRows: \", df_user.shape[0], \" | Columns: \", df_user.shape[1])\n",
    "print(\"Server Categories: \\nRows: \", df_category.shape[0], \" | Columns: \", df_category.shape[1])"
   ]
  },
  {
   "cell_type": "markdown",
   "metadata": {},
   "source": [
    "### Defining Functions"
   ]
  },
  {
   "cell_type": "markdown",
   "metadata": {},
   "source": [
    "### Data Preprocessing"
   ]
  },
  {
   "cell_type": "code",
   "execution_count": 37,
   "metadata": {
    "execution": {
     "iopub.execute_input": "2024-11-23T14:25:58.773564Z",
     "iopub.status.busy": "2024-11-23T14:25:58.773153Z",
     "iopub.status.idle": "2024-11-23T14:25:58.780127Z",
     "shell.execute_reply": "2024-11-23T14:25:58.778659Z",
     "shell.execute_reply.started": "2024-11-23T14:25:58.773528Z"
    },
    "trusted": true
   },
   "outputs": [],
   "source": [
    "category_mapping = set(df_category['Category ID'])"
   ]
  },
  {
   "cell_type": "code",
   "execution_count": 38,
   "metadata": {
    "execution": {
     "iopub.execute_input": "2024-11-23T14:25:59.764037Z",
     "iopub.status.busy": "2024-11-23T14:25:59.762945Z",
     "iopub.status.idle": "2024-11-23T14:25:59.807067Z",
     "shell.execute_reply": "2024-11-23T14:25:59.805826Z",
     "shell.execute_reply.started": "2024-11-23T14:25:59.763991Z"
    },
    "trusted": true
   },
   "outputs": [],
   "source": [
    "user_map = df_user.set_index('user_id')['user_num']\n",
    "server_map = df_server.set_index('server_id')['server_num']\n",
    "df_interaction['user_num'] = df_interaction['user_id'].map(user_map)\n",
    "df_interaction['server_num'] = df_interaction['server_id'].map(server_map)"
   ]
  },
  {
   "cell_type": "code",
   "execution_count": 39,
   "metadata": {
    "execution": {
     "iopub.execute_input": "2024-11-23T14:26:00.677812Z",
     "iopub.status.busy": "2024-11-23T14:26:00.676700Z",
     "iopub.status.idle": "2024-11-23T14:26:00.685531Z",
     "shell.execute_reply": "2024-11-23T14:26:00.684365Z",
     "shell.execute_reply.started": "2024-11-23T14:26:00.677772Z"
    },
    "trusted": true
   },
   "outputs": [],
   "source": [
    "df_interaction['rating'] = df_interaction['rating'].fillna(0).astype(float)"
   ]
  },
  {
   "cell_type": "code",
   "execution_count": 40,
   "metadata": {
    "execution": {
     "iopub.execute_input": "2024-11-23T14:26:02.652439Z",
     "iopub.status.busy": "2024-11-23T14:26:02.651969Z",
     "iopub.status.idle": "2024-11-23T14:26:02.991104Z",
     "shell.execute_reply": "2024-11-23T14:26:02.989990Z",
     "shell.execute_reply.started": "2024-11-23T14:26:02.652402Z"
    },
    "trusted": true
   },
   "outputs": [],
   "source": [
    "df_user['interest'] = df_user['interest'].apply(eval)\n",
    "df_server['server_category'] = df_server['server_category'].apply(eval)"
   ]
  },
  {
   "cell_type": "code",
   "execution_count": 41,
   "metadata": {
    "execution": {
     "iopub.execute_input": "2024-11-23T14:26:04.063360Z",
     "iopub.status.busy": "2024-11-23T14:26:04.062961Z",
     "iopub.status.idle": "2024-11-23T14:26:05.095811Z",
     "shell.execute_reply": "2024-11-23T14:26:05.094677Z",
     "shell.execute_reply.started": "2024-11-23T14:26:04.063325Z"
    },
    "trusted": true
   },
   "outputs": [],
   "source": [
    "server_features = [\n",
    "    (row['server_num'], row['server_category']) for _, row in df_server.iterrows()\n",
    "]\n",
    "user_features = [\n",
    "    (row['user_num'], row['interest']) for _, row in df_user.iterrows()\n",
    "]"
   ]
  },
  {
   "cell_type": "markdown",
   "metadata": {},
   "source": [
    "### Preparing Data For Model"
   ]
  },
  {
   "cell_type": "code",
   "execution_count": 47,
   "metadata": {
    "execution": {
     "iopub.execute_input": "2024-11-23T14:26:53.515894Z",
     "iopub.status.busy": "2024-11-23T14:26:53.515277Z",
     "iopub.status.idle": "2024-11-23T14:26:53.542795Z",
     "shell.execute_reply": "2024-11-23T14:26:53.541755Z",
     "shell.execute_reply.started": "2024-11-23T14:26:53.515836Z"
    },
    "trusted": true
   },
   "outputs": [],
   "source": [
    "dataset = Dataset()\n",
    "dataset.fit(\n",
    "    users=df_user['user_num'].unique(),\n",
    "    items=df_server['server_num'].unique(),\n",
    "    user_features=category_mapping,\n",
    "    item_features=category_mapping,\n",
    ")"
   ]
  },
  {
   "cell_type": "code",
   "execution_count": 48,
   "metadata": {
    "execution": {
     "iopub.execute_input": "2024-11-23T14:26:56.448843Z",
     "iopub.status.busy": "2024-11-23T14:26:56.448414Z",
     "iopub.status.idle": "2024-11-23T14:27:02.244444Z",
     "shell.execute_reply": "2024-11-23T14:27:02.243541Z",
     "shell.execute_reply.started": "2024-11-23T14:26:56.448810Z"
    },
    "trusted": true
   },
   "outputs": [],
   "source": [
    "interactions, weights = dataset.build_interactions([\n",
    "    (row['user_num'], row['server_num'], row['rating']) for _, row in df_interaction.iterrows()\n",
    "])"
   ]
  },
  {
   "cell_type": "code",
   "execution_count": 49,
   "metadata": {
    "execution": {
     "iopub.execute_input": "2024-11-23T14:27:02.246760Z",
     "iopub.status.busy": "2024-11-23T14:27:02.246376Z",
     "iopub.status.idle": "2024-11-23T14:27:02.446032Z",
     "shell.execute_reply": "2024-11-23T14:27:02.444609Z",
     "shell.execute_reply.started": "2024-11-23T14:27:02.246725Z"
    },
    "trusted": true
   },
   "outputs": [],
   "source": [
    "user_features_matrix = dataset.build_user_features(user_features)\n",
    "server_features_matrix = dataset.build_item_features(server_features)"
   ]
  },
  {
   "cell_type": "markdown",
   "metadata": {},
   "source": [
    "### Training Model"
   ]
  },
  {
   "cell_type": "code",
   "execution_count": 51,
   "metadata": {
    "execution": {
     "iopub.execute_input": "2024-11-23T14:27:27.157330Z",
     "iopub.status.busy": "2024-11-23T14:27:27.156880Z",
     "iopub.status.idle": "2024-11-23T14:27:27.163940Z",
     "shell.execute_reply": "2024-11-23T14:27:27.162340Z",
     "shell.execute_reply.started": "2024-11-23T14:27:27.157294Z"
    },
    "trusted": true
   },
   "outputs": [],
   "source": [
    "model = LightFM(no_components=150, learning_rate=0.05, loss='warp', random_state=42)"
   ]
  },
  {
   "cell_type": "code",
   "execution_count": 52,
   "metadata": {
    "execution": {
     "iopub.execute_input": "2024-11-23T14:27:29.978528Z",
     "iopub.status.busy": "2024-11-23T14:27:29.977333Z",
     "iopub.status.idle": "2024-11-23T14:28:24.003724Z",
     "shell.execute_reply": "2024-11-23T14:28:24.002657Z",
     "shell.execute_reply.started": "2024-11-23T14:27:29.978488Z"
    },
    "trusted": true
   },
   "outputs": [
    {
     "data": {
      "text/plain": [
       "<lightfm.lightfm.LightFM at 0x7dcf28011630>"
      ]
     },
     "execution_count": 52,
     "metadata": {},
     "output_type": "execute_result"
    }
   ],
   "source": [
    "model.fit(interactions, item_features=server_features_matrix,user_features=user_features_matrix, sample_weight=weights, epochs=30, num_threads=4)"
   ]
  },
  {
   "cell_type": "code",
   "execution_count": null,
   "metadata": {
    "execution": {
     "iopub.execute_input": "2024-11-23T14:43:47.319835Z",
     "iopub.status.busy": "2024-11-23T14:43:47.319374Z",
     "iopub.status.idle": "2024-11-23T14:43:47.402893Z",
     "shell.execute_reply": "2024-11-23T14:43:47.401686Z",
     "shell.execute_reply.started": "2024-11-23T14:43:47.319803Z"
    },
    "trusted": true
   },
   "outputs": [
    {
     "name": "stdout",
     "output_type": "stream",
     "text": [
      "Model saved to lightfm_model.pkl\n"
     ]
    }
   ],
   "source": [
    "model_save_path = \"Model/lightfm_model.pkl\"\n",
    "\n",
    "with open(model_save_path, 'wb') as f:\n",
    "    pickle.dump(model, f)\n",
    "\n",
    "print(f\"Model saved to {model_save_path}\")"
   ]
  },
  {
   "cell_type": "markdown",
   "metadata": {},
   "source": [
    "### Evaluating Model"
   ]
  },
  {
   "cell_type": "code",
   "execution_count": 53,
   "metadata": {
    "execution": {
     "iopub.execute_input": "2024-11-23T14:28:24.005433Z",
     "iopub.status.busy": "2024-11-23T14:28:24.005154Z",
     "iopub.status.idle": "2024-11-23T14:29:05.641893Z",
     "shell.execute_reply": "2024-11-23T14:29:05.640762Z",
     "shell.execute_reply.started": "2024-11-23T14:28:24.005406Z"
    },
    "trusted": true
   },
   "outputs": [
    {
     "name": "stdout",
     "output_type": "stream",
     "text": [
      "Precision@k: 0.0689\n",
      "Recall@k: 0.1445\n",
      "AUC: 0.9117\n"
     ]
    }
   ],
   "source": [
    "precision = precision_at_k(model, interactions, k=5, \n",
    "                           user_features=user_features_matrix, \n",
    "                           item_features=server_features_matrix).mean()\n",
    "recall = recall_at_k(model, interactions, k=5, \n",
    "                     user_features=user_features_matrix, \n",
    "                     item_features=server_features_matrix).mean()\n",
    "auc = auc_score(model, interactions, \n",
    "                user_features=user_features_matrix, \n",
    "                item_features=server_features_matrix).mean()\n",
    "\n",
    "print(f'Precision@k: {precision:.4f}')\n",
    "print(f'Recall@k: {recall:.4f}')\n",
    "print(f'AUC: {auc:.4f}')"
   ]
  },
  {
   "cell_type": "markdown",
   "metadata": {},
   "source": [
    "### Recommend Servers"
   ]
  },
  {
   "cell_type": "code",
   "execution_count": 57,
   "metadata": {
    "execution": {
     "iopub.execute_input": "2024-11-23T14:43:17.517709Z",
     "iopub.status.busy": "2024-11-23T14:43:17.516340Z",
     "iopub.status.idle": "2024-11-23T14:43:17.532030Z",
     "shell.execute_reply": "2024-11-23T14:43:17.530657Z",
     "shell.execute_reply.started": "2024-11-23T14:43:17.517662Z"
    },
    "trusted": true
   },
   "outputs": [
    {
     "name": "stdout",
     "output_type": "stream",
     "text": [
      "Top recommended servers for user 5:\n"
     ]
    },
    {
     "data": {
      "text/plain": [
       "['Tech Talks Fans',\n",
       " 'Gaming Hub Fans',\n",
       " 'Study Zone Circle',\n",
       " 'Gaming Hub Circle',\n",
       " 'Study Zone Circle',\n",
       " 'Tech Talks Circle',\n",
       " 'Tech Talks Connect',\n",
       " 'Finance World Connect',\n",
       " 'Study Zone Fans',\n",
       " 'Tech Talks Circle']"
      ]
     },
     "execution_count": 57,
     "metadata": {},
     "output_type": "execute_result"
    }
   ],
   "source": [
    "user_num = 5  \n",
    "\n",
    "all_server_scores = model.predict(\n",
    "    user_ids=user_num, \n",
    "    item_ids=np.arange(len(df_server)),\n",
    "    user_features=user_features_matrix, \n",
    "    item_features=server_features_matrix\n",
    ")\n",
    "\n",
    "top_servers = np.argsort(-all_server_scores)[:10] \n",
    "recommended_servers = df_server.loc[df_server['server_num'].isin(top_servers), 'server_name']\n",
    "\n",
    "print(f\"Top recommended servers for user {user_num}:\")\n",
    "recommended_servers.tolist()"
   ]
  }
 ],
 "metadata": {
  "kaggle": {
   "accelerator": "none",
   "dataSources": [
    {
     "datasetId": 6149491,
     "sourceId": 9991847,
     "sourceType": "datasetVersion"
    }
   ],
   "dockerImageVersionId": 30786,
   "isGpuEnabled": false,
   "isInternetEnabled": true,
   "language": "python",
   "sourceType": "notebook"
  },
  "kernelspec": {
   "display_name": ".venv",
   "language": "python",
   "name": "python3"
  },
  "language_info": {
   "codemirror_mode": {
    "name": "ipython",
    "version": 3
   },
   "file_extension": ".py",
   "mimetype": "text/x-python",
   "name": "python",
   "nbconvert_exporter": "python",
   "pygments_lexer": "ipython3",
   "version": "3.10.11"
  }
 },
 "nbformat": 4,
 "nbformat_minor": 4
}
