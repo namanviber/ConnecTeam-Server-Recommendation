{
 "cells": [
  {
   "cell_type": "code",
   "execution_count": null,
   "metadata": {},
   "outputs": [],
   "source": [
    "import pandas as pd"
   ]
  },
  {
   "cell_type": "code",
   "execution_count": 24,
   "metadata": {},
   "outputs": [],
   "source": [
    "df_interaction = pd.read_csv(\"Dataset/server_interaction.csv\")"
   ]
  },
  {
   "cell_type": "code",
   "execution_count": 25,
   "metadata": {},
   "outputs": [
    {
     "data": {
      "text/html": [
       "<div>\n",
       "<style scoped>\n",
       "    .dataframe tbody tr th:only-of-type {\n",
       "        vertical-align: middle;\n",
       "    }\n",
       "\n",
       "    .dataframe tbody tr th {\n",
       "        vertical-align: top;\n",
       "    }\n",
       "\n",
       "    .dataframe thead th {\n",
       "        text-align: right;\n",
       "    }\n",
       "</style>\n",
       "<table border=\"1\" class=\"dataframe\">\n",
       "  <thead>\n",
       "    <tr style=\"text-align: right;\">\n",
       "      <th></th>\n",
       "      <th>user_id</th>\n",
       "      <th>user_name</th>\n",
       "      <th>server_id</th>\n",
       "      <th>server_name</th>\n",
       "      <th>rating</th>\n",
       "      <th>server_category</th>\n",
       "    </tr>\n",
       "  </thead>\n",
       "  <tbody>\n",
       "    <tr>\n",
       "      <th>0</th>\n",
       "      <td>user_01c9fb9caa27</td>\n",
       "      <td>Sophia Brown</td>\n",
       "      <td>9550bcac-6844-472f-b142-8bff64f42009</td>\n",
       "      <td>Art Lounge Connect</td>\n",
       "      <td>1.0</td>\n",
       "      <td>[3, 12]</td>\n",
       "    </tr>\n",
       "    <tr>\n",
       "      <th>1</th>\n",
       "      <td>user_135b81fdbcd2</td>\n",
       "      <td>John Smith</td>\n",
       "      <td>f08a46ea-b680-46d7-8e6e-ffe744b2497b</td>\n",
       "      <td>Gaming Hub Connect</td>\n",
       "      <td>NaN</td>\n",
       "      <td>[13]</td>\n",
       "    </tr>\n",
       "    <tr>\n",
       "      <th>2</th>\n",
       "      <td>user_135b81fdbcd2</td>\n",
       "      <td>John Smith</td>\n",
       "      <td>83d39e6b-ce67-468d-872e-956e277e8b4c</td>\n",
       "      <td>Gaming Hub Circle</td>\n",
       "      <td>2.0</td>\n",
       "      <td>[4, 14, 3]</td>\n",
       "    </tr>\n",
       "    <tr>\n",
       "      <th>3</th>\n",
       "      <td>user_135b81fdbcd2</td>\n",
       "      <td>John Smith</td>\n",
       "      <td>62c7b792-6424-4f36-adba-f1fe8e4e96bc</td>\n",
       "      <td>Study Zone Circle</td>\n",
       "      <td>2.0</td>\n",
       "      <td>[7]</td>\n",
       "    </tr>\n",
       "    <tr>\n",
       "      <th>4</th>\n",
       "      <td>user_135b81fdbcd2</td>\n",
       "      <td>John Smith</td>\n",
       "      <td>8bf6e9ec-50d8-4e17-af1f-516deb6c7ae1</td>\n",
       "      <td>Art Lounge Circle</td>\n",
       "      <td>4.0</td>\n",
       "      <td>[7, 4, 13]</td>\n",
       "    </tr>\n",
       "  </tbody>\n",
       "</table>\n",
       "</div>"
      ],
      "text/plain": [
       "             user_id     user_name                             server_id  \\\n",
       "0  user_01c9fb9caa27  Sophia Brown  9550bcac-6844-472f-b142-8bff64f42009   \n",
       "1  user_135b81fdbcd2    John Smith  f08a46ea-b680-46d7-8e6e-ffe744b2497b   \n",
       "2  user_135b81fdbcd2    John Smith  83d39e6b-ce67-468d-872e-956e277e8b4c   \n",
       "3  user_135b81fdbcd2    John Smith  62c7b792-6424-4f36-adba-f1fe8e4e96bc   \n",
       "4  user_135b81fdbcd2    John Smith  8bf6e9ec-50d8-4e17-af1f-516deb6c7ae1   \n",
       "\n",
       "          server_name  rating server_category  \n",
       "0  Art Lounge Connect     1.0         [3, 12]  \n",
       "1  Gaming Hub Connect     NaN            [13]  \n",
       "2   Gaming Hub Circle     2.0      [4, 14, 3]  \n",
       "3   Study Zone Circle     2.0             [7]  \n",
       "4   Art Lounge Circle     4.0      [7, 4, 13]  "
      ]
     },
     "execution_count": 25,
     "metadata": {},
     "output_type": "execute_result"
    }
   ],
   "source": [
    "df_interaction.head()"
   ]
  },
  {
   "cell_type": "code",
   "execution_count": 26,
   "metadata": {},
   "outputs": [],
   "source": [
    "df_user = df_interaction.groupby(['user_id', 'user_name'])['server_category'].apply(\n",
    "    lambda x: sorted(set(item for sublist in x.apply(eval) for item in sublist))\n",
    ").reset_index()\n",
    "\n",
    "df_user.rename(columns={'server_category': 'interest'}, inplace=True)\n",
    "df_user['user_num'] = range(len(df_user))\n",
    "\n",
    "output_path = \"Dataset/user_data.csv\"\n",
    "df_user.to_csv(output_path, index=False)"
   ]
  },
  {
   "cell_type": "code",
   "execution_count": 29,
   "metadata": {},
   "outputs": [
    {
     "data": {
      "text/html": [
       "<div>\n",
       "<style scoped>\n",
       "    .dataframe tbody tr th:only-of-type {\n",
       "        vertical-align: middle;\n",
       "    }\n",
       "\n",
       "    .dataframe tbody tr th {\n",
       "        vertical-align: top;\n",
       "    }\n",
       "\n",
       "    .dataframe thead th {\n",
       "        text-align: right;\n",
       "    }\n",
       "</style>\n",
       "<table border=\"1\" class=\"dataframe\">\n",
       "  <thead>\n",
       "    <tr style=\"text-align: right;\">\n",
       "      <th></th>\n",
       "      <th>user_id</th>\n",
       "      <th>user_name</th>\n",
       "      <th>interest</th>\n",
       "      <th>user_num</th>\n",
       "    </tr>\n",
       "  </thead>\n",
       "  <tbody>\n",
       "    <tr>\n",
       "      <th>0</th>\n",
       "      <td>user_000079613cbf</td>\n",
       "      <td>Emma Wilson</td>\n",
       "      <td>[3, 4, 5, 7, 8, 9, 10, 12, 13, 14, 15]</td>\n",
       "      <td>0</td>\n",
       "    </tr>\n",
       "    <tr>\n",
       "      <th>1</th>\n",
       "      <td>user_0000b1756c2b</td>\n",
       "      <td>Noah Taylor</td>\n",
       "      <td>[3, 4, 5, 7, 9, 13]</td>\n",
       "      <td>1</td>\n",
       "    </tr>\n",
       "    <tr>\n",
       "      <th>2</th>\n",
       "      <td>user_000138baf092</td>\n",
       "      <td>John Wilson</td>\n",
       "      <td>[3, 4, 6, 8, 9, 10, 11, 13, 14]</td>\n",
       "      <td>2</td>\n",
       "    </tr>\n",
       "    <tr>\n",
       "      <th>3</th>\n",
       "      <td>user_0001e82b5908</td>\n",
       "      <td>Noah Taylor</td>\n",
       "      <td>[2, 3, 6, 8, 9, 11, 12, 13, 15]</td>\n",
       "      <td>3</td>\n",
       "    </tr>\n",
       "    <tr>\n",
       "      <th>4</th>\n",
       "      <td>user_0002454e2a97</td>\n",
       "      <td>Olivia Brown</td>\n",
       "      <td>[1, 4, 7, 8, 10, 11, 12, 13, 15]</td>\n",
       "      <td>4</td>\n",
       "    </tr>\n",
       "  </tbody>\n",
       "</table>\n",
       "</div>"
      ],
      "text/plain": [
       "             user_id     user_name                                interest  \\\n",
       "0  user_000079613cbf   Emma Wilson  [3, 4, 5, 7, 8, 9, 10, 12, 13, 14, 15]   \n",
       "1  user_0000b1756c2b   Noah Taylor                     [3, 4, 5, 7, 9, 13]   \n",
       "2  user_000138baf092   John Wilson         [3, 4, 6, 8, 9, 10, 11, 13, 14]   \n",
       "3  user_0001e82b5908   Noah Taylor         [2, 3, 6, 8, 9, 11, 12, 13, 15]   \n",
       "4  user_0002454e2a97  Olivia Brown        [1, 4, 7, 8, 10, 11, 12, 13, 15]   \n",
       "\n",
       "   user_num  \n",
       "0         0  \n",
       "1         1  \n",
       "2         2  \n",
       "3         3  \n",
       "4         4  "
      ]
     },
     "execution_count": 29,
     "metadata": {},
     "output_type": "execute_result"
    }
   ],
   "source": [
    "df_user.head()"
   ]
  },
  {
   "cell_type": "code",
   "execution_count": 30,
   "metadata": {},
   "outputs": [],
   "source": [
    "df_server = df_interaction.groupby(['server_id', 'server_name'])['server_category'].apply(\n",
    "    lambda x: sorted(set(item for sublist in x.apply(eval) for item in sublist))\n",
    ").reset_index()\n",
    "\n",
    "df_server['server_num'] = range(len(df_server))\n",
    "\n",
    "output_path_server = \"Dataset/server_data.csv\"\n",
    "df_server.to_csv(output_path_server, index=False)\n"
   ]
  },
  {
   "cell_type": "code",
   "execution_count": 31,
   "metadata": {},
   "outputs": [
    {
     "data": {
      "text/html": [
       "<div>\n",
       "<style scoped>\n",
       "    .dataframe tbody tr th:only-of-type {\n",
       "        vertical-align: middle;\n",
       "    }\n",
       "\n",
       "    .dataframe tbody tr th {\n",
       "        vertical-align: top;\n",
       "    }\n",
       "\n",
       "    .dataframe thead th {\n",
       "        text-align: right;\n",
       "    }\n",
       "</style>\n",
       "<table border=\"1\" class=\"dataframe\">\n",
       "  <thead>\n",
       "    <tr style=\"text-align: right;\">\n",
       "      <th></th>\n",
       "      <th>server_id</th>\n",
       "      <th>server_name</th>\n",
       "      <th>server_category</th>\n",
       "      <th>server_num</th>\n",
       "    </tr>\n",
       "  </thead>\n",
       "  <tbody>\n",
       "    <tr>\n",
       "      <th>0</th>\n",
       "      <td>0007f352-7249-45f2-a8fa-3e9e68211472</td>\n",
       "      <td>Finance World Corner</td>\n",
       "      <td>[1, 12, 13]</td>\n",
       "      <td>0</td>\n",
       "    </tr>\n",
       "    <tr>\n",
       "      <th>1</th>\n",
       "      <td>002468de-aae1-42a0-8e61-1609d8df4269</td>\n",
       "      <td>Finance World Corner</td>\n",
       "      <td>[8, 12]</td>\n",
       "      <td>1</td>\n",
       "    </tr>\n",
       "    <tr>\n",
       "      <th>2</th>\n",
       "      <td>014f84ea-afd2-482a-974a-51a2aa81c1c2</td>\n",
       "      <td>Art Lounge Corner</td>\n",
       "      <td>[11]</td>\n",
       "      <td>2</td>\n",
       "    </tr>\n",
       "    <tr>\n",
       "      <th>3</th>\n",
       "      <td>01ffb523-c74e-430d-bd9d-8f794f2d1eaf</td>\n",
       "      <td>Tech Talks Fans</td>\n",
       "      <td>[4]</td>\n",
       "      <td>3</td>\n",
       "    </tr>\n",
       "    <tr>\n",
       "      <th>4</th>\n",
       "      <td>0259a8db-4a52-492a-a0c8-fed4945fd2c8</td>\n",
       "      <td>Art Lounge Fans</td>\n",
       "      <td>[2, 11]</td>\n",
       "      <td>4</td>\n",
       "    </tr>\n",
       "  </tbody>\n",
       "</table>\n",
       "</div>"
      ],
      "text/plain": [
       "                              server_id           server_name server_category  \\\n",
       "0  0007f352-7249-45f2-a8fa-3e9e68211472  Finance World Corner     [1, 12, 13]   \n",
       "1  002468de-aae1-42a0-8e61-1609d8df4269  Finance World Corner         [8, 12]   \n",
       "2  014f84ea-afd2-482a-974a-51a2aa81c1c2     Art Lounge Corner            [11]   \n",
       "3  01ffb523-c74e-430d-bd9d-8f794f2d1eaf       Tech Talks Fans             [4]   \n",
       "4  0259a8db-4a52-492a-a0c8-fed4945fd2c8       Art Lounge Fans         [2, 11]   \n",
       "\n",
       "   server_num  \n",
       "0           0  \n",
       "1           1  \n",
       "2           2  \n",
       "3           3  \n",
       "4           4  "
      ]
     },
     "execution_count": 31,
     "metadata": {},
     "output_type": "execute_result"
    }
   ],
   "source": [
    "df_server.head()"
   ]
  },
  {
   "cell_type": "code",
   "execution_count": 34,
   "metadata": {},
   "outputs": [
    {
     "data": {
      "text/plain": [
       "(20000, 4)"
      ]
     },
     "execution_count": 34,
     "metadata": {},
     "output_type": "execute_result"
    }
   ],
   "source": [
    "df_user.shape"
   ]
  }
 ],
 "metadata": {
  "kernelspec": {
   "display_name": ".venv",
   "language": "python",
   "name": "python3"
  },
  "language_info": {
   "codemirror_mode": {
    "name": "ipython",
    "version": 3
   },
   "file_extension": ".py",
   "mimetype": "text/x-python",
   "name": "python",
   "nbconvert_exporter": "python",
   "pygments_lexer": "ipython3",
   "version": "3.10.11"
  }
 },
 "nbformat": 4,
 "nbformat_minor": 2
}
